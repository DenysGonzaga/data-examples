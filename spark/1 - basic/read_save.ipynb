{
  "nbformat": 4,
  "nbformat_minor": 0,
  "metadata": {
    "colab": {
      "name": "read-save",
      "provenance": [],
      "authorship_tag": "ABX9TyMQ1OPcKdSArE+HTb76p7lY",
      "include_colab_link": true
    },
    "kernelspec": {
      "name": "python3",
      "display_name": "Python 3"
    },
    "language_info": {
      "name": "python"
    }
  },
  "cells": [
    {
      "cell_type": "markdown",
      "metadata": {
        "id": "view-in-github",
        "colab_type": "text"
      },
      "source": [
        "<a href=\"https://colab.research.google.com/github/DenysNunes/data-examples/blob/main/spark/basic/read_save.ipynb\" target=\"_parent\"><img src=\"https://colab.research.google.com/assets/colab-badge.svg\" alt=\"Open In Colab\"/></a>"
      ]
    },
    {
      "cell_type": "markdown",
      "metadata": {
        "id": "mGNVvW3yHbaD"
      },
      "source": [
        "# **Init spark**"
      ]
    },
    {
      "cell_type": "code",
      "metadata": {
        "colab": {
          "base_uri": "https://localhost:8080/"
        },
        "id": "JmSpDN-CHTMM",
        "outputId": "dc4c7fba-31b0-4f18-87fc-0ab97c975c12"
      },
      "source": [
        "!pip install -q pyspark==3.1.1\n",
        "!sudo apt install tree\n",
        "!rm -rf /tmp/read-save-example/\n",
        "\n",
        "from pyspark.sql import SparkSession\n",
        "\n",
        "spark = SparkSession \\\n",
        "    .builder \\\n",
        "    .master('local[*]') \\\n",
        "    .appName(\"New Session Example\") \\\n",
        "    .config(\"spark.serializer\", \"org.apache.spark.serializer.KryoSerializer\") \\\n",
        "    .config(\"spark.jars.packages\", \"org.apache.hudi:hudi-spark3-bundle_2.12:0.9.0,org.apache.spark:spark-avro_2.12:3.0.1\") \\\n",
        "    .enableHiveSupport() \\\n",
        "    .getOrCreate()"
      ],
      "execution_count": 1,
      "outputs": [
        {
          "output_type": "stream",
          "name": "stdout",
          "text": [
            "Reading package lists... Done\n",
            "Building dependency tree       \n",
            "Reading state information... Done\n",
            "tree is already the newest version (1.7.0-5).\n",
            "0 upgraded, 0 newly installed, 0 to remove and 37 not upgraded.\n"
          ]
        }
      ]
    },
    {
      "cell_type": "code",
      "metadata": {
        "colab": {
          "base_uri": "https://localhost:8080/"
        },
        "id": "uuPNLERcHd8h",
        "outputId": "7663327b-92bd-4c77-e654-c039655869cb"
      },
      "source": [
        "from pyspark.sql.types import Row\n",
        "from datetime import date\n",
        "import random\n",
        "\n",
        "def get_random():\n",
        "  return random.randrange(2000, 5000, 100)\n",
        "\n",
        "raw_rows = [\n",
        "        Row(id=1, name='John', salary=get_random(), hire_date=date(2020, 1, 1)),\n",
        "        Row(id=2, name='Joana', salary=get_random(), hire_date=date(2020, 1, 1)),\n",
        "        Row(id=3, name='Maria', salary=get_random(), hire_date=date(2020, 1, 2)),\n",
        "        Row(id=4, name='Sandra', salary=get_random(), hire_date=date(2020, 1, 2)),\n",
        "        Row(id=5, name='Ben', salary=get_random(), hire_date=date(2020, 1, 3)),\n",
        "        Row(id=6, name='Carl', salary=get_random(), hire_date=date(2020, 1, 3)),\n",
        "        Row(id=7, name='Joseph', salary=get_random(), hire_date=date(2020, 1, 4)),\n",
        "        Row(id=8, name='Oliver', salary=get_random(), hire_date=date(2020, 1, 4))\n",
        "]\n",
        "\n",
        "df = spark.createDataFrame(raw_rows)\n",
        "\n",
        "df.show()"
      ],
      "execution_count": 3,
      "outputs": [
        {
          "output_type": "stream",
          "name": "stdout",
          "text": [
            "+---+------+------+----------+\n",
            "| id|  name|salary| hire_date|\n",
            "+---+------+------+----------+\n",
            "|  1|  John|  3100|2020-01-01|\n",
            "|  2| Joana|  2700|2020-01-01|\n",
            "|  3| Maria|  3100|2020-01-02|\n",
            "|  4|Sandra|  4500|2020-01-02|\n",
            "|  5|   Ben|  3100|2020-01-03|\n",
            "|  6|  Carl|  4300|2020-01-03|\n",
            "|  7|Joseph|  4200|2020-01-04|\n",
            "|  8|Oliver|  3800|2020-01-04|\n",
            "+---+------+------+----------+\n",
            "\n"
          ]
        }
      ]
    },
    {
      "cell_type": "markdown",
      "metadata": {
        "id": "I5nRtaAbWxrG"
      },
      "source": [
        "# **Saving Mode 1**"
      ]
    },
    {
      "cell_type": "code",
      "metadata": {
        "id": "ojFeV9TUVrPe"
      },
      "source": [
        "df.write.save(path='/tmp/read-save-example/df1/', format='csv', delimiter=',', header=True)"
      ],
      "execution_count": 4,
      "outputs": []
    },
    {
      "cell_type": "code",
      "metadata": {
        "colab": {
          "base_uri": "https://localhost:8080/"
        },
        "id": "pqyGbVKyVke4",
        "outputId": "106aa7bf-4fcf-4b3d-9a93-fbe7312e931e"
      },
      "source": [
        "!ls /tmp/read-save-example/df1/"
      ],
      "execution_count": 5,
      "outputs": [
        {
          "output_type": "stream",
          "name": "stdout",
          "text": [
            "part-00000-9ecc7a71-cb4c-4a03-ab29-69a691d92b72-c000.csv  _SUCCESS\n",
            "part-00001-9ecc7a71-cb4c-4a03-ab29-69a691d92b72-c000.csv\n"
          ]
        }
      ]
    },
    {
      "cell_type": "code",
      "metadata": {
        "colab": {
          "base_uri": "https://localhost:8080/"
        },
        "id": "gXZaZubbWQBH",
        "outputId": "16972ecb-6d9d-4756-874d-532459c44a07"
      },
      "source": [
        "!cat /tmp/read-save-example/df1/*.csv"
      ],
      "execution_count": 6,
      "outputs": [
        {
          "output_type": "stream",
          "name": "stdout",
          "text": [
            "id,name,salary,hire_date\n",
            "1,John,3100,2020-01-01\n",
            "2,Joana,2700,2020-01-01\n",
            "3,Maria,3100,2020-01-02\n",
            "4,Sandra,4500,2020-01-02\n",
            "id,name,salary,hire_date\n",
            "5,Ben,3100,2020-01-03\n",
            "6,Carl,4300,2020-01-03\n",
            "7,Joseph,4200,2020-01-04\n",
            "8,Oliver,3800,2020-01-04\n"
          ]
        }
      ]
    },
    {
      "cell_type": "markdown",
      "metadata": {
        "id": "DO7uZzp6XhRm"
      },
      "source": [
        "# **Saving Mode 2**"
      ]
    },
    {
      "cell_type": "code",
      "metadata": {
        "id": "XDaj1toKWXFc"
      },
      "source": [
        "df.write.option('delimiter', ',').option('header', True).csv(path='/tmp/read-save-example/df2/')"
      ],
      "execution_count": 7,
      "outputs": []
    },
    {
      "cell_type": "code",
      "metadata": {
        "colab": {
          "base_uri": "https://localhost:8080/"
        },
        "id": "gK2eH_QwdArZ",
        "outputId": "842023d2-4ed6-4a51-b9e3-219d1d19aeb2"
      },
      "source": [
        "!cat /tmp/read-save-example/df2/*.csv"
      ],
      "execution_count": 8,
      "outputs": [
        {
          "output_type": "stream",
          "name": "stdout",
          "text": [
            "id,name,salary,hire_date\n",
            "1,John,3100,2020-01-01\n",
            "2,Joana,2700,2020-01-01\n",
            "3,Maria,3100,2020-01-02\n",
            "4,Sandra,4500,2020-01-02\n",
            "id,name,salary,hire_date\n",
            "5,Ben,3100,2020-01-03\n",
            "6,Carl,4300,2020-01-03\n",
            "7,Joseph,4200,2020-01-04\n",
            "8,Oliver,3800,2020-01-04\n"
          ]
        }
      ]
    },
    {
      "cell_type": "markdown",
      "metadata": {
        "id": "SocNma7KgPWU"
      },
      "source": [
        "# **Saving Mode 3 - Partitioned**"
      ]
    },
    {
      "cell_type": "code",
      "metadata": {
        "id": "xyyB0m3tgOtc"
      },
      "source": [
        "df.write.save(path='/tmp/read-save-example/df3/', format='parquet', partitionBy=['hire_date'])"
      ],
      "execution_count": 9,
      "outputs": []
    },
    {
      "cell_type": "code",
      "metadata": {
        "colab": {
          "base_uri": "https://localhost:8080/"
        },
        "id": "yOp3BvPZghmt",
        "outputId": "fa313c94-eb24-4cdd-9318-fb1c6c3f710b"
      },
      "source": [
        "!tree /tmp/read-save-example/df3/"
      ],
      "execution_count": 10,
      "outputs": [
        {
          "output_type": "stream",
          "name": "stdout",
          "text": [
            "/tmp/read-save-example/df3/\n",
            "├── hire_date=2020-01-01\n",
            "│   └── part-00000-a942ceed-0881-4277-9e6c-ee0243cc2ab4.c000.snappy.parquet\n",
            "├── hire_date=2020-01-02\n",
            "│   └── part-00000-a942ceed-0881-4277-9e6c-ee0243cc2ab4.c000.snappy.parquet\n",
            "├── hire_date=2020-01-03\n",
            "│   └── part-00001-a942ceed-0881-4277-9e6c-ee0243cc2ab4.c000.snappy.parquet\n",
            "├── hire_date=2020-01-04\n",
            "│   └── part-00001-a942ceed-0881-4277-9e6c-ee0243cc2ab4.c000.snappy.parquet\n",
            "└── _SUCCESS\n",
            "\n",
            "4 directories, 5 files\n"
          ]
        }
      ]
    },
    {
      "cell_type": "markdown",
      "metadata": {
        "id": "4ALEoO4jgUB9"
      },
      "source": [
        "# **Saving Mode 4 - As Table**"
      ]
    },
    {
      "cell_type": "code",
      "metadata": {
        "id": "z6o291yigTWM"
      },
      "source": [
        "df.write.saveAsTable(path='/tmp/read-save-example/df3/', name='tb_parquet_salaries')"
      ],
      "execution_count": 12,
      "outputs": []
    },
    {
      "cell_type": "code",
      "metadata": {
        "colab": {
          "base_uri": "https://localhost:8080/"
        },
        "id": "dtEKiFkShQIC",
        "outputId": "40c05208-3618-4810-ebc2-373675c91afc"
      },
      "source": [
        "!tree /tmp/read-save-example/df3/"
      ],
      "execution_count": 13,
      "outputs": [
        {
          "output_type": "stream",
          "name": "stdout",
          "text": [
            "/tmp/read-save-example/df3/\n",
            "├── part-00000-4cef3893-bc2b-4fa1-8d8d-8bd57356b7ce-c000.snappy.parquet\n",
            "├── part-00001-4cef3893-bc2b-4fa1-8d8d-8bd57356b7ce-c000.snappy.parquet\n",
            "└── _SUCCESS\n",
            "\n",
            "0 directories, 3 files\n"
          ]
        }
      ]
    },
    {
      "cell_type": "markdown",
      "metadata": {
        "id": "_t2aVSLfYmhm"
      },
      "source": [
        "# **Saving with diferent formats**"
      ]
    },
    {
      "cell_type": "code",
      "metadata": {
        "id": "iyigqkypYiVf"
      },
      "source": [
        "# mode = overwrite -> remove all previously data and save your dataframe\n",
        "# mode = append -> append new data with old\n",
        "\n",
        "df.write.save(path='/tmp/read-save-example/otherformat/parquet/', \n",
        "              format='parquet', \n",
        "              mode='overwrite')\n",
        "\n",
        "df.write.save(path='/tmp/read-save-example/otherformat/orc/', \n",
        "              format='orc', \n",
        "              mode='overwrite')"
      ],
      "execution_count": 14,
      "outputs": []
    },
    {
      "cell_type": "code",
      "metadata": {
        "colab": {
          "base_uri": "https://localhost:8080/"
        },
        "id": "q6rsJuxWZkns",
        "outputId": "54340716-15c8-4363-bf8f-b3a34fa3c797"
      },
      "source": [
        "!tree /tmp/read-save-example/otherformat/"
      ],
      "execution_count": 15,
      "outputs": [
        {
          "output_type": "stream",
          "name": "stdout",
          "text": [
            "/tmp/read-save-example/otherformat/\n",
            "├── orc\n",
            "│   ├── part-00000-dbf2d30e-f7a5-44aa-958f-8f832bbe6aaf-c000.snappy.orc\n",
            "│   ├── part-00001-dbf2d30e-f7a5-44aa-958f-8f832bbe6aaf-c000.snappy.orc\n",
            "│   └── _SUCCESS\n",
            "└── parquet\n",
            "    ├── part-00000-cf491ff4-5e41-41b2-8189-6767f1f29242-c000.snappy.parquet\n",
            "    ├── part-00001-cf491ff4-5e41-41b2-8189-6767f1f29242-c000.snappy.parquet\n",
            "    └── _SUCCESS\n",
            "\n",
            "2 directories, 6 files\n"
          ]
        }
      ]
    },
    {
      "cell_type": "markdown",
      "metadata": {
        "id": "lhfYu1YNaDZr"
      },
      "source": [
        "# **Saving with a external format**\n",
        "\n",
        "**Notice, HUDI jar already added on session !!!**\n",
        "\n",
        "More information about hudi [here](https://hudi.apache.org/)."
      ]
    },
    {
      "cell_type": "code",
      "metadata": {
        "id": "24kU4N4RY2ym"
      },
      "source": [
        "hudi_options = {\n",
        "    'hoodie.table.name': 'tb_hudi_salaries',\n",
        "    'hoodie.datasource.write.recordkey.field': 'id',\n",
        "    'hoodie.datasource.write.partitionpath.field': 'hire_date',\n",
        "    'hoodie.datasource.write.table.name': 'tb_hudi_salaries',\n",
        "    'hoodie.datasource.write.operation': 'insert',\n",
        "    'hoodie.datasource.write.precombine.field': 'ts',\n",
        "    'hoodie.insert.shuffle.parallelism': 2\n",
        "}\n",
        "\n",
        "df.write.format(\"hudi\").  \\\n",
        "    options(**hudi_options). \\\n",
        "    mode(\"overwrite\"). \\\n",
        "    save('/tmp/read-save-example/otherformat/hudi/')\n"
      ],
      "execution_count": 16,
      "outputs": []
    },
    {
      "cell_type": "code",
      "metadata": {
        "colab": {
          "base_uri": "https://localhost:8080/"
        },
        "id": "npTrHGM9aOda",
        "outputId": "2e014c92-2f10-4451-cfa4-4205d5e991e7"
      },
      "source": [
        "!tree /tmp/read-save-example/otherformat/hudi/"
      ],
      "execution_count": 17,
      "outputs": [
        {
          "output_type": "stream",
          "name": "stdout",
          "text": [
            "/tmp/read-save-example/otherformat/hudi/\n",
            "├── 2020-01-01\n",
            "│   └── 559c358b-b5ea-4995-b964-c27f956d4714-0_0-12-24_20211112234155.parquet\n",
            "├── 2020-01-02\n",
            "│   └── af195b55-ce37-4e24-9740-e2402af20a78-0_1-14-25_20211112234155.parquet\n",
            "├── 2020-01-03\n",
            "│   └── cdc1e64a-0b5f-49fe-9355-41ed78375a9a-0_2-14-26_20211112234155.parquet\n",
            "└── 2020-01-04\n",
            "    └── 2794b72b-99eb-405a-974c-bdabe531f7da-0_3-14-27_20211112234155.parquet\n",
            "\n",
            "4 directories, 4 files\n"
          ]
        }
      ]
    },
    {
      "cell_type": "markdown",
      "metadata": {
        "id": "PkuIAUZcetsi"
      },
      "source": [
        "# **Reading mode 1 - All params like arguments**"
      ]
    },
    {
      "cell_type": "code",
      "metadata": {
        "colab": {
          "base_uri": "https://localhost:8080/"
        },
        "id": "AlacMdECer_A",
        "outputId": "e447e2f6-3a43-40cf-beab-38bba244764e"
      },
      "source": [
        "df_load = spark.read.load(format='parquet', path='/tmp/read-save-example/otherformat/parquet/')\n",
        "df_load.show()"
      ],
      "execution_count": 18,
      "outputs": [
        {
          "output_type": "stream",
          "name": "stdout",
          "text": [
            "+---+------+------+----------+\n",
            "| id|  name|salary| hire_date|\n",
            "+---+------+------+----------+\n",
            "|  1|  John|  3100|2020-01-01|\n",
            "|  2| Joana|  2700|2020-01-01|\n",
            "|  3| Maria|  3100|2020-01-02|\n",
            "|  4|Sandra|  4500|2020-01-02|\n",
            "|  5|   Ben|  3100|2020-01-03|\n",
            "|  6|  Carl|  4300|2020-01-03|\n",
            "|  7|Joseph|  4200|2020-01-04|\n",
            "|  8|Oliver|  3800|2020-01-04|\n",
            "+---+------+------+----------+\n",
            "\n"
          ]
        }
      ]
    },
    {
      "cell_type": "markdown",
      "metadata": {
        "id": "TgmqPSPLfG-O"
      },
      "source": [
        "# **Reading mode 2 - Implicit format method**"
      ]
    },
    {
      "cell_type": "code",
      "metadata": {
        "colab": {
          "base_uri": "https://localhost:8080/"
        },
        "id": "nOJ7_gCLctSI",
        "outputId": "637c94de-5320-4a01-bdff-7cea4e5c546a"
      },
      "source": [
        "df_load2 = spark.read.parquet('/tmp/read-save-example/otherformat/parquet/')\n",
        "df_load2.show()"
      ],
      "execution_count": 19,
      "outputs": [
        {
          "output_type": "stream",
          "name": "stdout",
          "text": [
            "+---+------+------+----------+\n",
            "| id|  name|salary| hire_date|\n",
            "+---+------+------+----------+\n",
            "|  1|  John|  3100|2020-01-01|\n",
            "|  2| Joana|  2700|2020-01-01|\n",
            "|  3| Maria|  3100|2020-01-02|\n",
            "|  4|Sandra|  4500|2020-01-02|\n",
            "|  5|   Ben|  3100|2020-01-03|\n",
            "|  6|  Carl|  4300|2020-01-03|\n",
            "|  7|Joseph|  4200|2020-01-04|\n",
            "|  8|Oliver|  3800|2020-01-04|\n",
            "+---+------+------+----------+\n",
            "\n"
          ]
        }
      ]
    },
    {
      "cell_type": "markdown",
      "metadata": {
        "id": "CSUMrYMefVR6"
      },
      "source": [
        "# **Reading mode 3 - Using wildcards**"
      ]
    },
    {
      "cell_type": "code",
      "metadata": {
        "colab": {
          "base_uri": "https://localhost:8080/"
        },
        "id": "bWHYF4-EfVDr",
        "outputId": "7dc970a5-d5f9-4e60-cd72-59051fca8bdb"
      },
      "source": [
        "df_load3 = spark.read.parquet('/tmp/read-save-example/otherformat/parquet/part*.parquet')\n",
        "df_load3.show()"
      ],
      "execution_count": 20,
      "outputs": [
        {
          "output_type": "stream",
          "name": "stdout",
          "text": [
            "+---+------+------+----------+\n",
            "| id|  name|salary| hire_date|\n",
            "+---+------+------+----------+\n",
            "|  1|  John|  3100|2020-01-01|\n",
            "|  2| Joana|  2700|2020-01-01|\n",
            "|  3| Maria|  3100|2020-01-02|\n",
            "|  4|Sandra|  4500|2020-01-02|\n",
            "|  5|   Ben|  3100|2020-01-03|\n",
            "|  6|  Carl|  4300|2020-01-03|\n",
            "|  7|Joseph|  4200|2020-01-04|\n",
            "|  8|Oliver|  3800|2020-01-04|\n",
            "+---+------+------+----------+\n",
            "\n"
          ]
        }
      ]
    },
    {
      "cell_type": "markdown",
      "metadata": {
        "id": "935leJVNfJDK"
      },
      "source": [
        "# **Reading mode 4 - Spark SQL direct path**"
      ]
    },
    {
      "cell_type": "code",
      "metadata": {
        "colab": {
          "base_uri": "https://localhost:8080/"
        },
        "id": "zp2eTyOLfD5I",
        "outputId": "0546ab9f-ce94-473d-8d0e-162152f9ce81"
      },
      "source": [
        "df_load4 = spark.sql('select * from parquet.`/tmp/read-save-example/otherformat/parquet/`')\n",
        "df_load4.show()"
      ],
      "execution_count": 21,
      "outputs": [
        {
          "output_type": "stream",
          "name": "stdout",
          "text": [
            "+---+------+------+----------+\n",
            "| id|  name|salary| hire_date|\n",
            "+---+------+------+----------+\n",
            "|  1|  John|  3100|2020-01-01|\n",
            "|  2| Joana|  2700|2020-01-01|\n",
            "|  3| Maria|  3100|2020-01-02|\n",
            "|  4|Sandra|  4500|2020-01-02|\n",
            "|  5|   Ben|  3100|2020-01-03|\n",
            "|  6|  Carl|  4300|2020-01-03|\n",
            "|  7|Joseph|  4200|2020-01-04|\n",
            "|  8|Oliver|  3800|2020-01-04|\n",
            "+---+------+------+----------+\n",
            "\n"
          ]
        }
      ]
    },
    {
      "cell_type": "markdown",
      "metadata": {
        "id": "J5dxKB-WhVsH"
      },
      "source": [
        "# **Reading mode 4 - Spark SQL Table**\n",
        "\n"
      ]
    },
    {
      "cell_type": "code",
      "metadata": {
        "colab": {
          "base_uri": "https://localhost:8080/"
        },
        "id": "sz13mmGOfQmJ",
        "outputId": "181b28f6-c641-411f-916c-63112458d949"
      },
      "source": [
        "df_load5 = spark.sql('select * from tb_parquet_salaries')\n",
        "df_load5.show()"
      ],
      "execution_count": 22,
      "outputs": [
        {
          "output_type": "stream",
          "name": "stdout",
          "text": [
            "+---+------+------+----------+\n",
            "| id|  name|salary| hire_date|\n",
            "+---+------+------+----------+\n",
            "|  1|  John|  3100|2020-01-01|\n",
            "|  2| Joana|  2700|2020-01-01|\n",
            "|  3| Maria|  3100|2020-01-02|\n",
            "|  4|Sandra|  4500|2020-01-02|\n",
            "|  5|   Ben|  3100|2020-01-03|\n",
            "|  6|  Carl|  4300|2020-01-03|\n",
            "|  7|Joseph|  4200|2020-01-04|\n",
            "|  8|Oliver|  3800|2020-01-04|\n",
            "+---+------+------+----------+\n",
            "\n"
          ]
        }
      ]
    },
    {
      "cell_type": "code",
      "metadata": {
        "id": "6Q5G29bUhhck"
      },
      "source": [
        ""
      ],
      "execution_count": null,
      "outputs": []
    }
  ]
}