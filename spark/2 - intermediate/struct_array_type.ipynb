{
  "nbformat": 4,
  "nbformat_minor": 0,
  "metadata": {
    "colab": {
      "provenance": []
    },
    "kernelspec": {
      "name": "python3",
      "display_name": "Python 3"
    },
    "language_info": {
      "name": "python"
    }
  },
  "cells": [
    {
      "cell_type": "markdown",
      "source": [
        "## Dealing with Array Type and Complex Fields in Apache Spark"
      ],
      "metadata": {
        "id": "cS4Cjfv9e1As"
      }
    },
    {
      "cell_type": "code",
      "source": [
        "!pip install -q pyspark==3.5.0"
      ],
      "metadata": {
        "id": "fdaTqSo7hbtO"
      },
      "execution_count": 1,
      "outputs": []
    },
    {
      "cell_type": "code",
      "source": [
        "from pyspark.sql import SparkSession\n",
        "from pyspark.sql.types import Row\n",
        "from pyspark.sql import functions as F\n",
        "from pyspark.sql import types as T"
      ],
      "metadata": {
        "id": "_DmG_MUphciH"
      },
      "execution_count": 2,
      "outputs": []
    },
    {
      "cell_type": "code",
      "execution_count": 3,
      "metadata": {
        "id": "igQattzAcT40"
      },
      "outputs": [],
      "source": [
        "spark = SparkSession \\\n",
        "    .builder \\\n",
        "    .master('local[*]') \\\n",
        "    .appName(\"New Session Example\") \\\n",
        "    .config(\"spark.serializer\", \"org.apache.spark.serializer.KryoSerializer\") \\\n",
        "    .enableHiveSupport() \\\n",
        "    .getOrCreate()"
      ]
    },
    {
      "cell_type": "markdown",
      "source": [
        "## How to create nested items"
      ],
      "metadata": {
        "id": "nc8sv7O7cs-0"
      }
    },
    {
      "cell_type": "code",
      "source": [
        "rows = [\n",
        "    Row(id=1, name='Pedro', sale=[Row(product=\"Mouse\",\n",
        "                                      quant=1.0,\n",
        "                                      unit_value=10.0),\n",
        "                                   Row(product=\"Water Cooler\",\n",
        "                                       quant=1.0,\n",
        "                                       unit_value=150.9)]),\n",
        "\n",
        "    Row(id=2, name='Maria', sale=[Row(product=\"Keyboard\",\n",
        "                                      quant=2.0,\n",
        "                                      unit_value=40.5)]),\n",
        "\n",
        "    Row(id=3, name='Clara', sale=[Row(product=\"Graphic Cards\",\n",
        "                                      quant=2.0,\n",
        "                                      unit_value=340.0)]),\n",
        "\n",
        "    Row(id=4, name='Joana', sale=[Row(product=\"Sound System\",\n",
        "                                      quant=1.0,\n",
        "                                      unit_value=340.0),\n",
        "                                  Row(product=\"Mouse\",\n",
        "                                      quant=1.0,\n",
        "                                      unit_value=10.0)]),\n",
        "\n",
        "    Row(id=5, name='Carlos', sale=[Row(product=\"Graphic Cards\",\n",
        "                                       quant=1.0,\n",
        "                                       unit_value=340.0),\n",
        "                                   Row(product=\"Memory\",\n",
        "                                       quant=4.0,\n",
        "                                       unit_value=50.0),\n",
        "                                   Row(product=\"Hard Disk\",\n",
        "                                       quant=2.0,\n",
        "                                       unit_value=10.0)])\n",
        "]\n",
        "\n",
        "\n",
        "df = spark.createDataFrame(rows)"
      ],
      "metadata": {
        "id": "WJLYkiaFcfyQ"
      },
      "execution_count": 5,
      "outputs": []
    },
    {
      "cell_type": "code",
      "source": [
        "df.printSchema()"
      ],
      "metadata": {
        "colab": {
          "base_uri": "https://localhost:8080/"
        },
        "id": "iyizWE4JqBDQ",
        "outputId": "f795ee20-29a1-494e-dc45-c73bea86c233"
      },
      "execution_count": 6,
      "outputs": [
        {
          "output_type": "stream",
          "name": "stdout",
          "text": [
            "root\n",
            " |-- id: long (nullable = true)\n",
            " |-- name: string (nullable = true)\n",
            " |-- sale: array (nullable = true)\n",
            " |    |-- element: struct (containsNull = true)\n",
            " |    |    |-- product: string (nullable = true)\n",
            " |    |    |-- quant: double (nullable = true)\n",
            " |    |    |-- unit_value: double (nullable = true)\n",
            "\n"
          ]
        }
      ]
    },
    {
      "cell_type": "code",
      "source": [
        "df.show(truncate=False)"
      ],
      "metadata": {
        "colab": {
          "base_uri": "https://localhost:8080/"
        },
        "id": "Nj5nkO5fe7BP",
        "outputId": "724e3110-160d-45bc-ca5c-6d07a8c11925"
      },
      "execution_count": 7,
      "outputs": [
        {
          "output_type": "stream",
          "name": "stdout",
          "text": [
            "+---+------+--------------------------------------------------------------------------+\n",
            "|id |name  |sale                                                                      |\n",
            "+---+------+--------------------------------------------------------------------------+\n",
            "|1  |Pedro |[{Mouse, 1.0, 10.0}, {Water Cooler, 1.0, 150.9}]                          |\n",
            "|2  |Maria |[{Keyboard, 2.0, 40.5}]                                                   |\n",
            "|3  |Clara |[{Graphic Cards, 2.0, 340.0}]                                             |\n",
            "|4  |Joana |[{Sound System, 1.0, 340.0}, {Mouse, 1.0, 10.0}]                          |\n",
            "|5  |Carlos|[{Graphic Cards, 1.0, 340.0}, {Memory, 4.0, 50.0}, {Hard Disk, 2.0, 10.0}]|\n",
            "+---+------+--------------------------------------------------------------------------+\n",
            "\n"
          ]
        }
      ]
    },
    {
      "cell_type": "markdown",
      "source": [
        "## Exploding array items"
      ],
      "metadata": {
        "id": "sXxcda5IhFFi"
      }
    },
    {
      "cell_type": "code",
      "source": [
        "df_exp = df.select(df.id, df.name, F.explode(df.sale).alias(\"sale\"))\n",
        "df_exp.show(n=100, truncate=False)"
      ],
      "metadata": {
        "colab": {
          "base_uri": "https://localhost:8080/"
        },
        "id": "suAZzw5Pf4hR",
        "outputId": "82735e8a-7af8-4fc8-8a70-eb91ef4b1963"
      },
      "execution_count": 8,
      "outputs": [
        {
          "output_type": "stream",
          "name": "stdout",
          "text": [
            "+---+------+---------------------------+\n",
            "|id |name  |sale                       |\n",
            "+---+------+---------------------------+\n",
            "|1  |Pedro |{Mouse, 1.0, 10.0}         |\n",
            "|1  |Pedro |{Water Cooler, 1.0, 150.9} |\n",
            "|2  |Maria |{Keyboard, 2.0, 40.5}      |\n",
            "|3  |Clara |{Graphic Cards, 2.0, 340.0}|\n",
            "|4  |Joana |{Sound System, 1.0, 340.0} |\n",
            "|4  |Joana |{Mouse, 1.0, 10.0}         |\n",
            "|5  |Carlos|{Graphic Cards, 1.0, 340.0}|\n",
            "|5  |Carlos|{Memory, 4.0, 50.0}        |\n",
            "|5  |Carlos|{Hard Disk, 2.0, 10.0}     |\n",
            "+---+------+---------------------------+\n",
            "\n"
          ]
        }
      ]
    },
    {
      "cell_type": "markdown",
      "source": [
        "## Struct to Table"
      ],
      "metadata": {
        "id": "ge103TkCiND8"
      }
    },
    {
      "cell_type": "code",
      "source": [
        "df_exp.selectExpr(\"id\",\n",
        "                  \"name\",\n",
        "                  \"sale.product\",\n",
        "                  \"sale.quant\",\n",
        "                  \"sale.unit_value\") \\\n",
        "      .show(n=100, truncate=False)"
      ],
      "metadata": {
        "colab": {
          "base_uri": "https://localhost:8080/"
        },
        "id": "97uVkDfahrFk",
        "outputId": "a76e94df-032a-41b5-f7b6-319462f67c1a"
      },
      "execution_count": 9,
      "outputs": [
        {
          "output_type": "stream",
          "name": "stdout",
          "text": [
            "+---+------+-------------+-----+----------+\n",
            "|id |name  |product      |quant|unit_value|\n",
            "+---+------+-------------+-----+----------+\n",
            "|1  |Pedro |Mouse        |1.0  |10.0      |\n",
            "|1  |Pedro |Water Cooler |1.0  |150.9     |\n",
            "|2  |Maria |Keyboard     |2.0  |40.5      |\n",
            "|3  |Clara |Graphic Cards|2.0  |340.0     |\n",
            "|4  |Joana |Sound System |1.0  |340.0     |\n",
            "|4  |Joana |Mouse        |1.0  |10.0      |\n",
            "|5  |Carlos|Graphic Cards|1.0  |340.0     |\n",
            "|5  |Carlos|Memory       |4.0  |50.0      |\n",
            "|5  |Carlos|Hard Disk    |2.0  |10.0      |\n",
            "+---+------+-------------+-----+----------+\n",
            "\n"
          ]
        }
      ]
    },
    {
      "cell_type": "markdown",
      "source": [
        "## Sum sales total using complex struct with Explode"
      ],
      "metadata": {
        "id": "zFOJVoZIqKI1"
      }
    },
    {
      "cell_type": "code",
      "source": [
        "df_exp.selectExpr(\"id\",\n",
        "                  \"name\",\n",
        "                  \"sale.unit_value * sale.quant as total_by_product\") \\\n",
        "      .groupBy(\"id\", \"name\") \\\n",
        "           .sum(\"total_by_product\") \\\n",
        "           .withColumnRenamed(\"sum(total_by_product)\", \"total\") \\\n",
        "      .orderBy(\"id\") \\\n",
        "      .show(n=100, truncate=False)"
      ],
      "metadata": {
        "colab": {
          "base_uri": "https://localhost:8080/"
        },
        "id": "W270vE-bqJkA",
        "outputId": "93de57d0-5f1d-4d0b-dc02-8650a598a26b"
      },
      "execution_count": 10,
      "outputs": [
        {
          "output_type": "stream",
          "name": "stdout",
          "text": [
            "+---+------+-----+\n",
            "|id |name  |total|\n",
            "+---+------+-----+\n",
            "|1  |Pedro |160.9|\n",
            "|2  |Maria |81.0 |\n",
            "|3  |Clara |680.0|\n",
            "|4  |Joana |350.0|\n",
            "|5  |Carlos|560.0|\n",
            "+---+------+-----+\n",
            "\n"
          ]
        }
      ]
    },
    {
      "cell_type": "markdown",
      "source": [
        "## Sum sales total using complex struct with UDF"
      ],
      "metadata": {
        "id": "Mlp0P1h9jIjV"
      }
    },
    {
      "cell_type": "code",
      "source": [
        "def total_sale(sale):\n",
        "  acc = 0.0\n",
        "  for s in sale:\n",
        "    acc += (s.quant * s.unit_value)\n",
        "  return acc\n",
        "\n",
        "udf_total_sale = F.udf(total_sale, T.FloatType())\n",
        "df.withColumn(\"total\", udf_total_sale(df.sale)).show(truncate=False)"
      ],
      "metadata": {
        "colab": {
          "base_uri": "https://localhost:8080/"
        },
        "id": "BwHn3WFXjHX8",
        "outputId": "584dc658-d2ad-4dcd-cb7e-74573e13e93b"
      },
      "execution_count": 11,
      "outputs": [
        {
          "output_type": "stream",
          "name": "stdout",
          "text": [
            "+---+------+--------------------------------------------------------------------------+-----+\n",
            "|id |name  |sale                                                                      |total|\n",
            "+---+------+--------------------------------------------------------------------------+-----+\n",
            "|1  |Pedro |[{Mouse, 1.0, 10.0}, {Water Cooler, 1.0, 150.9}]                          |160.9|\n",
            "|2  |Maria |[{Keyboard, 2.0, 40.5}]                                                   |81.0 |\n",
            "|3  |Clara |[{Graphic Cards, 2.0, 340.0}]                                             |680.0|\n",
            "|4  |Joana |[{Sound System, 1.0, 340.0}, {Mouse, 1.0, 10.0}]                          |350.0|\n",
            "|5  |Carlos|[{Graphic Cards, 1.0, 340.0}, {Memory, 4.0, 50.0}, {Hard Disk, 2.0, 10.0}]|560.0|\n",
            "+---+------+--------------------------------------------------------------------------+-----+\n",
            "\n"
          ]
        }
      ]
    },
    {
      "cell_type": "code",
      "source": [],
      "metadata": {
        "id": "O2S7441xiHJP"
      },
      "execution_count": null,
      "outputs": []
    }
  ]
}