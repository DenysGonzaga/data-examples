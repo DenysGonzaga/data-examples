{
  "nbformat": 4,
  "nbformat_minor": 0,
  "metadata": {
    "colab": {
      "name": "wows_data_case.ipynb",
      "provenance": [],
      "collapsed_sections": [],
      "toc_visible": true,
      "authorship_tag": "ABX9TyMhAFHm1mjDYvJvLRtxqNbE",
      "include_colab_link": true
    },
    "kernelspec": {
      "name": "python3",
      "display_name": "Python 3"
    },
    "language_info": {
      "name": "python"
    }
  },
  "cells": [
    {
      "cell_type": "markdown",
      "metadata": {
        "id": "view-in-github",
        "colab_type": "text"
      },
      "source": [
        "<a href=\"https://colab.research.google.com/github/DenysNunes/data-examples/blob/main/spark/4%20-%20user%20cases/wows_data_case.ipynb\" target=\"_parent\"><img src=\"https://colab.research.google.com/assets/colab-badge.svg\" alt=\"Open In Colab\"/></a>"
      ]
    },
    {
      "cell_type": "markdown",
      "source": [
        "# Lakehouse: World of Warships API\n",
        "\n",
        "In this case, I'm used a public api from WOWS game to create a mini example of \n",
        "lakehouse. <br>\n",
        "Therefore, in the first part of this tutorial, I'm getting data from the API using a single requests methods. <br>\n",
        "Next, all data is saved in a AWS s3 bucket with a layers pattern of lakehouse building.\n",
        "\n",
        "▶ Observation:\n",
        "\n",
        "* This is a simple api crawler, a better design could be deployed on a k8s cluster or using a specialized tool like Airbyte."
      ],
      "metadata": {
        "id": "E58N335x6QnE"
      }
    },
    {
      "cell_type": "code",
      "execution_count": 1,
      "metadata": {
        "id": "D8YP8cuI_CnG",
        "colab": {
          "base_uri": "https://localhost:8080/"
        },
        "outputId": "b3bf9e3c-08e3-4d31-e770-218ba6126c96"
      },
      "outputs": [
        {
          "output_type": "stream",
          "name": "stdout",
          "text": [
            "Found existing installation: datascience 0.10.6\n",
            "Uninstalling datascience-0.10.6:\n",
            "  Successfully uninstalled datascience-0.10.6\n",
            "\u001b[K     |████████████████████████████████| 281.3 MB 41 kB/s \n",
            "\u001b[K     |████████████████████████████████| 198 kB 55.7 MB/s \n",
            "\u001b[?25h  Building wheel for pyspark (setup.py) ... \u001b[?25l\u001b[?25hdone\n",
            "\u001b[K     |████████████████████████████████| 131 kB 4.2 MB/s \n",
            "\u001b[K     |████████████████████████████████| 79 kB 7.2 MB/s \n",
            "\u001b[K     |████████████████████████████████| 8.5 MB 33.1 MB/s \n",
            "\u001b[K     |████████████████████████████████| 138 kB 70.8 MB/s \n",
            "\u001b[31mERROR: pip's dependency resolver does not currently take into account all the packages that are installed. This behaviour is the source of the following dependency conflicts.\n",
            "requests 2.23.0 requires urllib3!=1.25.0,!=1.25.1,<1.26,>=1.21.1, but you have urllib3 1.26.8 which is incompatible.\u001b[0m\n",
            "\u001b[K     |████████████████████████████████| 3.8 MB 3.7 MB/s \n",
            "\u001b[K     |████████████████████████████████| 547 kB 44.3 MB/s \n",
            "\u001b[K     |████████████████████████████████| 8.5 MB 51.0 MB/s \n",
            "\u001b[?25h"
          ]
        }
      ],
      "source": [
        "!pip uninstall -y datascience\n",
        "!pip install -q pyspark==3.2.0\n",
        "!pip install -q boto3==1.20.37\n",
        "!pip install -q awscli==1.22.37"
      ]
    },
    {
      "cell_type": "markdown",
      "source": [
        "## ▶ Introducing"
      ],
      "metadata": {
        "id": "5AXrGLdiqLDc"
      }
    },
    {
      "cell_type": "markdown",
      "source": [
        "### ▶ Credentials input\n",
        "\n",
        "AWS Account credentials and bucket configuration."
      ],
      "metadata": {
        "id": "E9f_yG2iLVdz"
      }
    },
    {
      "cell_type": "code",
      "source": [
        "aws_access_key = input('Tip you AWS Access Key:')\n",
        "aws_secret_key = input('Tip you AWS Secret Key:')\n",
        "aws_bucket_work = input('Tip you bucket (Eg. my-bucket-teste):')"
      ],
      "metadata": {
        "id": "KjC6ia0oLVLf"
      },
      "execution_count": null,
      "outputs": []
    },
    {
      "cell_type": "markdown",
      "source": [
        "### ▶ Application initializing\n",
        "\n",
        "* Imports\n",
        "* Setting env variables\n",
        "* Init spark session\n",
        "* Get data in wows api."
      ],
      "metadata": {
        "id": "AFi6RlyOBi6k"
      }
    },
    {
      "cell_type": "code",
      "source": [
        "import os\n",
        "import pytz\n",
        "import time\n",
        "import json\n",
        "import boto3\n",
        "import requests\n",
        "\n",
        "from datetime import datetime\n",
        "from pyspark.sql import SparkSession\n",
        "from pyspark.sql.functions import input_file_name\n",
        "\n",
        "partition = datetime.now().strftime('%Y-%m-%d')\n",
        "\n",
        "bronze_key = f'wows/bronze/'\n",
        "silver_path = f\"s3a://{aws_bucket_work}/wows/silver/\"\n",
        "gold_path = f\"s3a://{aws_bucket_work}/wows/gold/\"\n",
        "\n",
        "os.environ[\"AWS_ACCESS_KEY_ID\"] = aws_access_key\n",
        "os.environ[\"AWS_SECRET_ACCESS_KEY\"] = aws_secret_key\n",
        "os.environ[\"DATALAKE_BUCKET\"] = aws_bucket_work\n",
        "\n",
        "s3 = boto3.resource('s3')\n",
        "\n",
        "spark = SparkSession \\\n",
        "    .builder \\\n",
        "    .master('local[*]') \\\n",
        "    .appName(\"World of Warships Lakehouse APP\") \\\n",
        "    .config(\"spark.serializer\", \"org.apache.spark.serializer.KryoSerializer\") \\\n",
        "    .config(\"spark.sql.extensions\", \"io.delta.sql.DeltaSparkSessionExtension\") \\\n",
        "    .config(\"spark.sql.catalog.spark_catalog\", \"org.apache.spark.sql.delta.catalog.DeltaCatalog\") \\\n",
        "    .config(\"spark.jars.packages\", \"io.delta:delta-core_2.12:1.1.0,org.apache.hadoop:hadoop-aws:3.3.1,com.amazonaws:aws-java-sdk:1.12.141\") \\\n",
        "    .enableHiveSupport() \\\n",
        "    .getOrCreate()"
      ],
      "metadata": {
        "id": "GXwTUCx0b4Fo",
        "colab": {
          "base_uri": "https://localhost:8080/"
        },
        "outputId": "2b263bff-311a-479a-da64-45eeb9f0538c"
      },
      "execution_count": 3,
      "outputs": [
        {
          "output_type": "stream",
          "name": "stderr",
          "text": [
            "/usr/local/lib/python3.7/dist-packages/requests/__init__.py:91: RequestsDependencyWarning: urllib3 (1.26.8) or chardet (3.0.4) doesn't match a supported version!\n",
            "  RequestsDependencyWarning)\n"
          ]
        }
      ]
    },
    {
      "cell_type": "code",
      "source": [
        "def send_request(url: str, payload: dict = {}, method: str = \"get\"):\n",
        "    if method == \"get\":\n",
        "        r = requests.get(url, params=payload)\n",
        "        return r.json()\n",
        "\n",
        "tz = \"Brazil/East\"\n",
        "server_timezone = pytz.timezone(tz)\n",
        "server_time = datetime.now(server_timezone)\n",
        "\n",
        "# Clan - ID\n",
        "clan_names = [\"Diversão Brasil\", \n",
        "              \"Star Brasil\", \n",
        "              \"MARINHA DO BRASIL\", \n",
        "              \"FORÇA EXPEDICIONÁRIA BRASILEIRA\", \n",
        "              \"Brasil\",\n",
        "              \"BRASIL ACIMA DE TUDO\",\n",
        "              \"Brasil Império dos Mares\"]\n",
        "              \n",
        "clan_p = [{\"application_id\": \"d34126e87e37087d0337e9365f839ba3\",  \n",
        "           \"search\": x, \n",
        "           \"fields\": \n",
        "           \"clan_id,name,tag\"} for x in clan_names ]\n",
        "clan_url = \"http://api.worldofwarships.com/wows/clans/list/\"\n",
        "\n",
        "clans = [send_request(clan_url, x) for x in clan_p]\n",
        "clans = [(x['data'][0]['name'], x['data'][0]['clan_id']) for x in clans]\n",
        "\n",
        "# Clan Details - Members \n",
        "clan_details_url = \"http://api.worldofwarships.com/wows/clans/info/\"\n",
        "\n",
        "players = []\n",
        "\n",
        "player_p = {\"application_id\": \"d34126e87e37087d0337e9365f839ba3\"}\n",
        "player_url = \"http://api.worldofwarships.com/wows/account/info/\"\n",
        "\n",
        "\n",
        "for cl in clans:\n",
        "    clan_name, clan_id = cl\n",
        "    clan_details_p = {\"application_id\": \n",
        "                      \"d34126e87e37087d0337e9365f839ba3\",  \n",
        "                      \"clan_id\": clan_id, \n",
        "                      \"fields\": \"members_ids\"}    \n",
        "\n",
        "    clan_details = send_request(clan_details_url, \n",
        "                                clan_details_p)['data'][str(clan_id)]\n",
        "    clan_members = clan_details['members_ids']\n",
        "    for m in clan_members:\n",
        "      attributes = ['last_battle_time', 'account_id']\n",
        "\n",
        "      pnp_copy = player_p.copy()\n",
        "      pnp_copy['account_id'] = m\n",
        "      player_details = send_request(player_url, pnp_copy)['data']\n",
        "      \n",
        "      data = player_details[str(m)]\n",
        "      data['account_id'] = m\n",
        "      data['clan_id'] = clan_id\n",
        "      data['clan_name'] = clan_name\n",
        "      players.append(data)"
      ],
      "metadata": {
        "id": "nosLXhjoAZF5"
      },
      "execution_count": 4,
      "outputs": []
    },
    {
      "cell_type": "markdown",
      "source": [
        "### ▶ Bucket Cleansing\n",
        "\n",
        "Clean all wows/ key"
      ],
      "metadata": {
        "id": "mvtXyokBe3py"
      }
    },
    {
      "cell_type": "code",
      "source": [
        "!aws s3 rm s3://$DATALAKE_BUCKET/wows/ --recursive --quiet"
      ],
      "metadata": {
        "id": "HORM9Akde280"
      },
      "execution_count": 5,
      "outputs": []
    },
    {
      "cell_type": "markdown",
      "source": [
        "## ▶ Layers"
      ],
      "metadata": {
        "id": "Pbaaf6owqbDn"
      }
    },
    {
      "cell_type": "markdown",
      "source": [
        "### ▶ Bronze Layer\n",
        "\n",
        "Is a good pattern create a bronze layer with a partition to split data and enable a day based reprocessing feature."
      ],
      "metadata": {
        "id": "wBnxlIqrmQ0Z"
      }
    },
    {
      "cell_type": "code",
      "source": [
        "bronze_file = s3.Object(aws_bucket_work, bronze_key + f\"tb_players/bronze_dt_exec={partition}/data.json\")\n",
        "bronze_file.put(Body=bytes(json.dumps(players), encoding='utf-8'))"
      ],
      "metadata": {
        "id": "eoCQ_oWTh25S",
        "colab": {
          "base_uri": "https://localhost:8080/"
        },
        "outputId": "7aa677b9-7454-4d2a-b495-8b9033db9e26"
      },
      "execution_count": 6,
      "outputs": [
        {
          "output_type": "execute_result",
          "data": {
            "text/plain": [
              "{'ETag': '\"1fddec0ce192f8720f7dec73947376b9\"',\n",
              " 'ResponseMetadata': {'HTTPHeaders': {'content-length': '0',\n",
              "   'date': 'Thu, 20 Jan 2022 04:00:30 GMT',\n",
              "   'etag': '\"1fddec0ce192f8720f7dec73947376b9\"',\n",
              "   'server': 'AmazonS3',\n",
              "   'x-amz-id-2': 'JfwQOjhKebtKxOff47IsQz5XUpcnZ39SjGzbwqbIjec2ltYQCoOPD6QUOo7zBW68hAK2qSXytDA=',\n",
              "   'x-amz-request-id': 'T8S6NM6Y67NX58H6'},\n",
              "  'HTTPStatusCode': 200,\n",
              "  'HostId': 'JfwQOjhKebtKxOff47IsQz5XUpcnZ39SjGzbwqbIjec2ltYQCoOPD6QUOo7zBW68hAK2qSXytDA=',\n",
              "  'RequestId': 'T8S6NM6Y67NX58H6',\n",
              "  'RetryAttempts': 1}}"
            ]
          },
          "metadata": {},
          "execution_count": 6
        }
      ]
    },
    {
      "cell_type": "markdown",
      "source": [
        "#### ▶ Verifying bronze data\n",
        "\n",
        "Querying data from s3"
      ],
      "metadata": {
        "id": "IBl8ZareYa8b"
      }
    },
    {
      "cell_type": "code",
      "source": [
        "df_bronze = spark.read.json(f's3a://{aws_bucket_work}/{bronze_key}/tb_players/')\n",
        "\n",
        "# Another good practice is put the name of file source for future debug\n",
        "df_bronze = df_bronze.withColumn(\"bronze_input_file\", input_file_name())\n",
        "\n",
        "df_bronze.createOrReplaceTempView('temp_tb_players_bronze')\n",
        "df_bronze.show()"
      ],
      "metadata": {
        "colab": {
          "base_uri": "https://localhost:8080/"
        },
        "id": "2-WPrCNTjARL",
        "outputId": "1b978117-18a1-4a25-9446-ed5a0203e4e5"
      },
      "execution_count": 7,
      "outputs": [
        {
          "output_type": "stream",
          "name": "stdout",
          "text": [
            "+----------+----------+---------------+----------+--------------+-----+----------------+---------------+-------------+----------+-----------------+-------+--------------------+----------------+----------+--------------+--------------------+\n",
            "|account_id|   clan_id|      clan_name|created_at|hidden_profile|karma|last_battle_time|leveling_points|leveling_tier| logout_at|         nickname|private|          statistics|stats_updated_at|updated_at|bronze_dt_exec|   bronze_input_file|\n",
            "+----------+----------+---------------+----------+--------------+-----+----------------+---------------+-------------+----------+-----------------+-------+--------------------+----------------+----------+--------------+--------------------+\n",
            "|1000275761|1000075507|Diversão Brasil|1438905943|         false| null|      1642632995|           9433|           15|1642636617|        rogerio19|   null|{9208, 300780, {{...|      1642636632|1642636632|    2022-01-20|s3a://denys-data-...|\n",
            "|1009995203|1000075507|Diversão Brasil|1582337631|         false| null|      1642646649|           8264|           15|1642648317|      tarrito1234|   null|{8193, 238040, {{...|      1642648330|1642648330|    2022-01-20|s3a://denys-data-...|\n",
            "|1012304033|1000075507|Diversão Brasil|1445665072|         false| null|      1642650099|          23174|           15|1642639561|       XAVANTE_BR|   null|{22980, 792215, {...|      1642650520|1642639571|    2022-01-20|s3a://denys-data-...|\n",
            "|1013300457|1000075507|Diversão Brasil|1435858782|         false| null|      1642644028|          32532|           15|1642644593|           Brazuk|   null|{31665, 1036842, ...|      1642644606|1642644606|    2022-01-20|s3a://denys-data-...|\n",
            "|1014674718|1000075507|Diversão Brasil|1435763092|         false| null|      1642648658|           8224|           15|1642649602|            Gaske|   null|{7960, 279635, {{...|      1642649871|1642649871|    2022-01-20|s3a://denys-data-...|\n",
            "|1015990719|1000075507|Diversão Brasil|1443812084|         false| null|      1642326136|          15915|           15|1642326770|           CmtADP|   null|{15731, 408311, {...|      1642326781|1642326781|    2022-01-20|s3a://denys-data-...|\n",
            "|1016098231|1000075507|Diversão Brasil|1506783442|         false| null|      1642647585|          11981|           15|1642648791|          dannerb|   null|{11190, 423478, {...|      1642648802|1642648802|    2022-01-20|s3a://denys-data-...|\n",
            "|1016124691|1000075507|Diversão Brasil|1479610553|         false| null|      1642644903|          12943|           15|1642645274|    DemetriusDF79|   null|{12739, 384838, {...|      1642645285|1642645285|    2022-01-20|s3a://denys-data-...|\n",
            "|1016224936|1000075507|Diversão Brasil|1446495562|         false| null|      1642535578|          26531|           15|1642536606|         cabojosi|   null|{26041, 866537, {...|      1642536616|1642536616|    2022-01-20|s3a://denys-data-...|\n",
            "|1016661549|1000075507|Diversão Brasil|1446453344|          true| null|      1642277353|           null|         null|1642278300|         esbarros|   null|                null|      1642278310|1642278310|    2022-01-20|s3a://denys-data-...|\n",
            "|1016682499|1000075507|Diversão Brasil|1452105756|         false| null|      1642634887|          21246|           15|1642635387|        Passamedo|   null|{20711, 755552, {...|      1642635399|1642635399|    2022-01-20|s3a://denys-data-...|\n",
            "|1017337217|1000075507|Diversão Brasil|1449693719|         false| null|      1642646563|          20640|           15|1642647020|         uulhaa_1|   null|{20150, 617669, {...|      1642647031|1642647031|    2022-01-20|s3a://denys-data-...|\n",
            "|1019854640|1000075507|Diversão Brasil|1600207819|         false| null|      1642619111|           3136|           15|1642620143|     Pedro___2016|   null|{3125, 99178, {{4...|      1642620154|1642620154|    2022-01-20|s3a://denys-data-...|\n",
            "|1020375011|1000075507|Diversão Brasil|1616345832|         false| null|      1642094197|           3215|           15|1642094840|        Xicopoiva|   null|{3110, 84148, {{3...|      1642180498|1642180498|    2022-01-20|s3a://denys-data-...|\n",
            "|1020905030|1000075507|Diversão Brasil|1466783241|         false| null|      1642639704|           5624|           15|1642640461|V21CorvetaBahiana|   null|{5524, 149693, {{...|      1642640473|1642640473|    2022-01-20|s3a://denys-data-...|\n",
            "|1021580288|1000075507|Diversão Brasil|1470677169|         false| null|      1642635194|           3181|           15|1642636170|     ToroSentado0|   null|{3126, 120497, {{...|      1642636181|1642636181|    2022-01-20|s3a://denys-data-...|\n",
            "|1022438872|1000075507|Diversão Brasil|1475946046|         false| null|      1642645002|          13118|           15|1642645357|          Arghbra|   null|{12964, 391669, {...|      1642645368|1642645368|    2022-01-20|s3a://denys-data-...|\n",
            "|1023090334|1000075507|Diversão Brasil|1479065363|         false| null|      1642640181|          14802|           15|1642641243|        BetoPiret|   null|{14430, 422320, {...|      1642641256|1642641256|    2022-01-20|s3a://denys-data-...|\n",
            "|1023698967|1000075507|Diversão Brasil|1481725991|         false| null|      1642628768|           2441|           15|1642629834|    barao_warrior|   null|{2287, 64801, {{4...|      1642629845|1642629845|    2022-01-20|s3a://denys-data-...|\n",
            "|1024272075|1000075507|Diversão Brasil|1483973044|         false| null|      1642649838|          21047|           15|1642628254|         DuwdeWin|   null|{20323, 681232, {...|      1642650555|1642628264|    2022-01-20|s3a://denys-data-...|\n",
            "+----------+----------+---------------+----------+--------------+-----+----------------+---------------+-------------+----------+-----------------+-------+--------------------+----------------+----------+--------------+--------------------+\n",
            "only showing top 20 rows\n",
            "\n"
          ]
        }
      ]
    },
    {
      "cell_type": "markdown",
      "source": [
        "### ▶ Silver Layer\n",
        "\n",
        "Following the best practices of lakehouse building, Silver layer is a section of data  most augmented and performatic. <br>\n",
        "Some transformations and optimizations could be done here.\n"
      ],
      "metadata": {
        "id": "RLOSMUiRlsxz"
      }
    },
    {
      "cell_type": "code",
      "source": [
        "from delta.tables import DeltaTable\n",
        "\n",
        "# if delta table already exists, a merge operation will be performed\n",
        "# if not, a one will be created\n",
        "def create_or_merge_table(source_df, merge_mapping, table_path, partition):\n",
        "  if DeltaTable.isDeltaTable(spark, table_path):\n",
        "    target_delta = DeltaTable.forPath(spark, table_path)\n",
        "    target_delta.alias(\"target\") \\\n",
        "                   .merge(\n",
        "                       source_df.alias(\"source\"), \n",
        "                       merge_mapping\n",
        "                   ) \\\n",
        "                   .whenMatchedUpdateAll() \\\n",
        "                   .whenNotMatchedInsertAll() \\\n",
        "                   .execute()\n",
        "  else:\n",
        "    source_df.write \\\n",
        "             .format(\"delta\") \\\n",
        "              .save(table_path, \n",
        "                      partitionBy=partition)\n",
        "\n",
        "\n",
        "\n",
        "# Creating a main silver\n",
        "df_silver_main = spark.sql(f\"\"\"\n",
        "\n",
        "SELECT account_id, \n",
        "       clan_id, \n",
        "       clan_name, \n",
        "       created_at, \n",
        "       hidden_profile, \n",
        "       karma, \n",
        "       last_battle_time, \n",
        "       leveling_points, \n",
        "       leveling_tier, \n",
        "       logout_at, \n",
        "       nickname, \n",
        "       private, \n",
        "       stats_updated_at, \n",
        "       updated_at, \n",
        "       bronze_dt_exec, \n",
        "       bronze_input_file,\n",
        "       current_date() as silver_dt_exec \n",
        "FROM temp_tb_players_bronze\n",
        "WHERE bronze_dt_exec = CAST('{partition}' AS DATE)\n",
        "\n",
        "\"\"\").repartition(4)\n",
        "\n",
        "df_silver_main = df_silver_main.repartition(4)\n",
        "create_or_merge_table(df_silver_main, \n",
        "                      \"target.account_id = source.account_id\",\n",
        "                      f'{silver_path}tb_players_default/',\n",
        "                      [\"clan_id\"])\n",
        "\n",
        "# Creating another silver with statistics table\n",
        "# But, is good to remember that`s can vary with you gold needs\n",
        "# The main objective of silver layer is to be a performatic interface for gold tables\n",
        "\n",
        "df_silver_stats = spark.sql(f\"\"\"\n",
        "\n",
        "SELECT account_id, \n",
        "       clan_id,\n",
        "       clan_name,\n",
        "       statistics.distance,\n",
        "       statistics.pvp.*,\n",
        "       bronze_dt_exec,\n",
        "       bronze_input_file,\n",
        "       current_date() as silver_dt_exec \n",
        "FROM  temp_tb_players_bronze\n",
        "WHERE bronze_dt_exec = CAST('{partition}' AS DATE)\n",
        "\n",
        "\"\"\").repartition(4)\n",
        "\n",
        "create_or_merge_table(df_silver_stats, \n",
        "                      \"target.account_id = source.account_id\",\n",
        "                      f'{silver_path}tb_players_statistics/',\n",
        "                      [\"clan_id\"])"
      ],
      "metadata": {
        "id": "XjKTzE0AjNCz"
      },
      "execution_count": 8,
      "outputs": []
    },
    {
      "cell_type": "markdown",
      "source": [
        "### ▶ Gold Layer\n",
        "\n",
        "This table is an agg to create a view about loss and win rates grouped by clan_id (already partitioned in SILVER to optimization of gold read)."
      ],
      "metadata": {
        "id": "pjc0_jWr4W3L"
      }
    },
    {
      "cell_type": "code",
      "source": [
        "df_gold_rates = spark.sql(f\"\"\"\n",
        "\n",
        "SELECT clan_id,\n",
        "       clan_name, \n",
        "       sum(battles) as battles, \n",
        "       sum(losses) as losses,\n",
        "       sum(wins) as wins,\n",
        "       format_number(sum(losses) * 100 / sum(battles), 4) as loss_rate,\n",
        "       format_number(sum(wins) * 100 / sum(battles), 4) as win_rate\n",
        "FROM DELTA.`{silver_path}tb_players_statistics/` \n",
        "GROUP BY clan_id, clan_name\n",
        "\n",
        "\"\"\")\n",
        "\n",
        "# This gold has few data, don't need partition\n",
        "df_gold_rates = df_gold_rates.repartition(4)\n",
        "create_or_merge_table(df_gold_rates, \n",
        "                      \"target.clan_name = source.clan_name\",\n",
        "                      f'{gold_path}tb_clan_rates/',\n",
        "                      None)"
      ],
      "metadata": {
        "id": "Qk1drw43wvJA"
      },
      "execution_count": 12,
      "outputs": []
    },
    {
      "cell_type": "code",
      "source": [
        "spark.read.load(f'{gold_path}tb_clan_rates/', format='delta') \\\n",
        "          .show(200, False)"
      ],
      "metadata": {
        "colab": {
          "base_uri": "https://localhost:8080/"
        },
        "id": "Iv2YktDm7wTe",
        "outputId": "c52ad127-1950-46ba-93f5-57df7669af35"
      },
      "execution_count": 13,
      "outputs": [
        {
          "output_type": "stream",
          "name": "stdout",
          "text": [
            "+----------+---------------------------------------+-------+------+------+---------+--------+\n",
            "|clan_id   |clan_name                              |battles|losses|wins  |loss_rate|win_rate|\n",
            "+----------+---------------------------------------+-------+------+------+---------+--------+\n",
            "|1000072137|BRASIL ACIMA DE TUDO                   |2231   |1157  |1057  |51.8602  |47.3779 |\n",
            "|1000044402|Brasil                                 |70658  |36432 |33992 |51.5610  |48.1078 |\n",
            "|1000060544|Brasil Império dos Mares               |8391   |4146  |4234  |49.4101  |50.4588 |\n",
            "|1000075507|Diversão Brasil                        |233750 |124021|109526|53.0571  |46.8560 |\n",
            "|1000052530|MARINHA DO BRASIL                      |285570 |146632|138693|51.3471  |48.5671 |\n",
            "|1000044019|Star Brasil                            |405769 |176619|228740|43.5270  |56.3720 |\n",
            "|1000066881|✠♕♔ FORÇA EXPEDICIONÁRIA BRASILEIRA ♔♕✠|144279 |74990 |69203 |51.9757  |47.9647 |\n",
            "+----------+---------------------------------------+-------+------+------+---------+--------+\n",
            "\n"
          ]
        }
      ]
    },
    {
      "cell_type": "code",
      "source": [
        "!aws s3 ls $DATALAKE_BUCKET --recursive"
      ],
      "metadata": {
        "id": "N9fbSfsQ73-d",
        "colab": {
          "base_uri": "https://localhost:8080/"
        },
        "outputId": "a22a2d89-86eb-457e-f5ec-cac299046f1a"
      },
      "execution_count": 14,
      "outputs": [
        {
          "output_type": "stream",
          "name": "stdout",
          "text": [
            "2022-01-20 04:00:30     463138 wows/bronze/tb_players/bronze_dt_exec=2022-01-20/data.json\n",
            "2022-01-20 04:03:23       1811 wows/gold/tb_clan_rates/_delta_log/00000000000000000000.json\n",
            "2022-01-20 04:08:39       1644 wows/gold/tb_clan_rates/_delta_log/00000000000000000001.json\n",
            "2022-01-20 04:03:17       2113 wows/gold/tb_clan_rates/part-00000-3644ad3d-287b-4f1d-bd27-20c3628abfc6-c000.snappy.parquet\n",
            "2022-01-20 04:08:36       2571 wows/gold/tb_clan_rates/part-00000-e5e90ae5-28e1-44dc-9a56-117cc202fa22-c000.snappy.parquet\n",
            "2022-01-20 04:03:17       2268 wows/gold/tb_clan_rates/part-00001-448f1dc7-b049-4130-b7be-505173b141be-c000.snappy.parquet\n",
            "2022-01-20 04:03:19       2151 wows/gold/tb_clan_rates/part-00002-0480b9cc-a871-4882-a416-c1dfafa6eff0-c000.snappy.parquet\n",
            "2022-01-20 04:03:19       2098 wows/gold/tb_clan_rates/part-00003-1681af3d-3cac-4da8-a9db-bf454b8b5b49-c000.snappy.parquet\n",
            "2022-01-20 04:01:29       7707 wows/silver/tb_players_default/_delta_log/00000000000000000000.json\n",
            "2022-01-20 04:00:58       5588 wows/silver/tb_players_default/clan_id=1000044019/part-00000-f4952183-0120-4932-9074-7b407b70db56.c000.snappy.parquet\n",
            "2022-01-20 04:00:58       5733 wows/silver/tb_players_default/clan_id=1000044019/part-00001-55da551a-ae49-4449-baae-719cb8c3c4b9.c000.snappy.parquet\n",
            "2022-01-20 04:01:13       5905 wows/silver/tb_players_default/clan_id=1000044019/part-00002-11ab6c89-a0fc-476d-ba99-500a3db7cb32.c000.snappy.parquet\n",
            "2022-01-20 04:01:13       5797 wows/silver/tb_players_default/clan_id=1000044019/part-00003-34708370-f04f-4fb2-a18b-57bf398bfcdc.c000.snappy.parquet\n",
            "2022-01-20 04:01:00       5627 wows/silver/tb_players_default/clan_id=1000044402/part-00000-0e840446-14da-4d52-85af-afd7fdcd6c05.c000.snappy.parquet\n",
            "2022-01-20 04:01:00       5422 wows/silver/tb_players_default/clan_id=1000044402/part-00001-67bf5cff-56a1-44f6-ba7c-70469dd91277.c000.snappy.parquet\n",
            "2022-01-20 04:01:15       5499 wows/silver/tb_players_default/clan_id=1000044402/part-00002-38062cea-8f88-4181-80e0-ed2ce7da99ed.c000.snappy.parquet\n",
            "2022-01-20 04:01:15       5402 wows/silver/tb_players_default/clan_id=1000044402/part-00003-b00cc8ce-668a-401f-aac2-223f45bba24d.c000.snappy.parquet\n",
            "2022-01-20 04:01:02       5883 wows/silver/tb_players_default/clan_id=1000052530/part-00000-8970aa3c-25e7-4d5e-85fd-1f962048ca92.c000.snappy.parquet\n",
            "2022-01-20 04:01:02       5685 wows/silver/tb_players_default/clan_id=1000052530/part-00001-216a78c2-e9dd-4bad-8a61-4fc3ad183777.c000.snappy.parquet\n",
            "2022-01-20 04:01:17       5872 wows/silver/tb_players_default/clan_id=1000052530/part-00002-f3b2ee55-036e-4632-8948-accb49bcb580.c000.snappy.parquet\n",
            "2022-01-20 04:01:17       5790 wows/silver/tb_players_default/clan_id=1000052530/part-00003-c3f8390b-71f2-44ee-8bb4-c0865ff7e331.c000.snappy.parquet\n",
            "2022-01-20 04:01:04       5077 wows/silver/tb_players_default/clan_id=1000060544/part-00000-b092329a-dc48-4008-80bd-6e51c0264d3b.c000.snappy.parquet\n",
            "2022-01-20 04:01:04       5245 wows/silver/tb_players_default/clan_id=1000060544/part-00001-8cc2381e-94e8-4e24-97a8-661e5253d0b4.c000.snappy.parquet\n",
            "2022-01-20 04:01:19       5056 wows/silver/tb_players_default/clan_id=1000060544/part-00003-30b184d9-c955-42ff-8b1f-041ae953a45a.c000.snappy.parquet\n",
            "2022-01-20 04:01:06       5701 wows/silver/tb_players_default/clan_id=1000066881/part-00000-cae93557-9419-46fc-83d5-25afe22e2b76.c000.snappy.parquet\n",
            "2022-01-20 04:01:06       5979 wows/silver/tb_players_default/clan_id=1000066881/part-00001-4e1d14a4-729c-47ef-9ad3-48124ef64612.c000.snappy.parquet\n",
            "2022-01-20 04:01:19       5928 wows/silver/tb_players_default/clan_id=1000066881/part-00002-4d5fce34-0cf0-466c-b5fe-4c8cf6e29fd2.c000.snappy.parquet\n",
            "2022-01-20 04:01:20       5835 wows/silver/tb_players_default/clan_id=1000066881/part-00003-ed86c5a7-c91d-4b52-9de1-2c8eb6e86b8a.c000.snappy.parquet\n",
            "2022-01-20 04:01:08       5209 wows/silver/tb_players_default/clan_id=1000072137/part-00000-a11899e1-bf16-43a0-9e96-24734fcf3ac1.c000.snappy.parquet\n",
            "2022-01-20 04:01:08       5386 wows/silver/tb_players_default/clan_id=1000072137/part-00001-1c174042-6562-4791-91d8-39163772eec0.c000.snappy.parquet\n",
            "2022-01-20 04:01:21       5367 wows/silver/tb_players_default/clan_id=1000072137/part-00002-85b369aa-42b7-497d-936a-903ce50bd368.c000.snappy.parquet\n",
            "2022-01-20 04:01:22       5200 wows/silver/tb_players_default/clan_id=1000072137/part-00003-e2fc605d-9573-41a7-b0b3-451abaa02165.c000.snappy.parquet\n",
            "2022-01-20 04:01:10       5845 wows/silver/tb_players_default/clan_id=1000075507/part-00000-80318927-341f-43c3-b4ed-13e314ceae76.c000.snappy.parquet\n",
            "2022-01-20 04:01:10       5657 wows/silver/tb_players_default/clan_id=1000075507/part-00001-259ce6b7-a995-4395-bf6c-0fd50ca6de0a.c000.snappy.parquet\n",
            "2022-01-20 04:01:22       5566 wows/silver/tb_players_default/clan_id=1000075507/part-00002-cb56d1fb-1847-4802-b86a-6668e137637d.c000.snappy.parquet\n",
            "2022-01-20 04:01:24       5919 wows/silver/tb_players_default/clan_id=1000075507/part-00003-1652894a-605a-49b8-aeeb-40c9f515bc7d.c000.snappy.parquet\n",
            "2022-01-20 04:02:24      12438 wows/silver/tb_players_statistics/_delta_log/00000000000000000000.json\n",
            "2022-01-20 04:01:53      26461 wows/silver/tb_players_statistics/clan_id=1000044019/part-00000-98a5776b-1faa-496e-b1c8-c316935430c3.c000.snappy.parquet\n",
            "2022-01-20 04:01:52      25504 wows/silver/tb_players_statistics/clan_id=1000044019/part-00001-9d9edd9d-ad59-4bcc-a86f-70781066428e.c000.snappy.parquet\n",
            "2022-01-20 04:02:06      24302 wows/silver/tb_players_statistics/clan_id=1000044019/part-00002-0387002e-5d0a-44f3-8771-23f5348bfe3b.c000.snappy.parquet\n",
            "2022-01-20 04:02:08      25915 wows/silver/tb_players_statistics/clan_id=1000044019/part-00003-84984e36-b3e1-4392-894a-c3e0b8544fbf.c000.snappy.parquet\n",
            "2022-01-20 04:01:55      23187 wows/silver/tb_players_statistics/clan_id=1000044402/part-00000-c962c3d8-333f-4aec-a660-0a26968284f8.c000.snappy.parquet\n",
            "2022-01-20 04:01:54      24631 wows/silver/tb_players_statistics/clan_id=1000044402/part-00001-eb9c0f22-af90-4a55-a9d0-3711fc57f023.c000.snappy.parquet\n",
            "2022-01-20 04:02:08      22516 wows/silver/tb_players_statistics/clan_id=1000044402/part-00002-bf847930-bc28-433b-abe5-6ab60730943d.c000.snappy.parquet\n",
            "2022-01-20 04:02:10      25012 wows/silver/tb_players_statistics/clan_id=1000044402/part-00003-75bd8dad-4909-4466-8775-7f2bf184fd25.c000.snappy.parquet\n",
            "2022-01-20 04:01:57      24963 wows/silver/tb_players_statistics/clan_id=1000052530/part-00000-66399ab9-57fb-4532-81ce-5ae9e8e31c86.c000.snappy.parquet\n",
            "2022-01-20 04:01:56      24394 wows/silver/tb_players_statistics/clan_id=1000052530/part-00001-c0aa774a-17da-4e1a-9e2a-4573e9003af8.c000.snappy.parquet\n",
            "2022-01-20 04:02:10      27481 wows/silver/tb_players_statistics/clan_id=1000052530/part-00002-2af5526d-dcbd-4ca9-9b75-27a25839d391.c000.snappy.parquet\n",
            "2022-01-20 04:02:12      24202 wows/silver/tb_players_statistics/clan_id=1000052530/part-00003-b55efeb0-aeda-420a-a53a-d6ec977652db.c000.snappy.parquet\n",
            "2022-01-20 04:01:59      20605 wows/silver/tb_players_statistics/clan_id=1000060544/part-00001-5bf9bee5-7c36-4f0e-8a05-cbd973f9f1ca.c000.snappy.parquet\n",
            "2022-01-20 04:02:14      22120 wows/silver/tb_players_statistics/clan_id=1000060544/part-00003-e3b31e00-dd27-45cf-a811-d223493f8a43.c000.snappy.parquet\n",
            "2022-01-20 04:01:59      23971 wows/silver/tb_players_statistics/clan_id=1000066881/part-00000-ae02ab77-ce77-4f36-b821-1cbb8419dcb1.c000.snappy.parquet\n",
            "2022-01-20 04:02:01      23570 wows/silver/tb_players_statistics/clan_id=1000066881/part-00001-e9d26524-9838-4bf5-bd1b-dba35b4a5516.c000.snappy.parquet\n",
            "2022-01-20 04:02:12      25107 wows/silver/tb_players_statistics/clan_id=1000066881/part-00002-b7f2c44b-0161-48aa-a0f1-10a801e9c8f8.c000.snappy.parquet\n",
            "2022-01-20 04:02:16      25073 wows/silver/tb_players_statistics/clan_id=1000066881/part-00003-7abbac75-42c5-4ebf-bab1-18d1aac312fa.c000.snappy.parquet\n",
            "2022-01-20 04:02:01      23302 wows/silver/tb_players_statistics/clan_id=1000072137/part-00000-42826201-ca68-431d-b3ad-73920cbbf205.c000.snappy.parquet\n",
            "2022-01-20 04:02:03      22492 wows/silver/tb_players_statistics/clan_id=1000072137/part-00001-a4c06ef6-e2a0-400f-8812-88637e77fefa.c000.snappy.parquet\n",
            "2022-01-20 04:02:14      20771 wows/silver/tb_players_statistics/clan_id=1000072137/part-00002-62560c60-db59-412a-9e18-b92fce304668.c000.snappy.parquet\n",
            "2022-01-20 04:02:18      20770 wows/silver/tb_players_statistics/clan_id=1000072137/part-00003-ced8c242-79fa-47f7-95b6-677f9497f6a2.c000.snappy.parquet\n",
            "2022-01-20 04:02:03      24320 wows/silver/tb_players_statistics/clan_id=1000075507/part-00000-8373a21c-6246-4364-8a5f-65d643110048.c000.snappy.parquet\n",
            "2022-01-20 04:02:05      25554 wows/silver/tb_players_statistics/clan_id=1000075507/part-00001-839799bf-6152-4c5c-b8f1-5f0a1d73676d.c000.snappy.parquet\n",
            "2022-01-20 04:02:16      25226 wows/silver/tb_players_statistics/clan_id=1000075507/part-00002-23937dbe-c52f-4ce2-aa45-289d677ad961.c000.snappy.parquet\n",
            "2022-01-20 04:02:20      24627 wows/silver/tb_players_statistics/clan_id=1000075507/part-00003-4f1e92db-8180-493b-9fd3-828a9d25c37e.c000.snappy.parquet\n"
          ]
        }
      ]
    },
    {
      "cell_type": "markdown",
      "source": [
        "#### ▶ Describing Gold\n",
        "\n",
        "I runned gold process twice to test merge feature and visualize table version"
      ],
      "metadata": {
        "id": "t6TabDrqfxkX"
      }
    },
    {
      "cell_type": "code",
      "source": [
        "spark.sql(f\"\"\"\n",
        "\n",
        "DESCRIBE HISTORY delta.`{gold_path}tb_clan_rates/`\n",
        "\n",
        "\"\"\").show()"
      ],
      "metadata": {
        "colab": {
          "base_uri": "https://localhost:8080/"
        },
        "id": "3UMcHQonfxRO",
        "outputId": "dec53a94-9992-4aa6-b469-da9c25dc8d81"
      },
      "execution_count": 15,
      "outputs": [
        {
          "output_type": "stream",
          "name": "stdout",
          "text": [
            "+-------+-------------------+------+--------+---------+--------------------+----+--------+---------+-----------+--------------+-------------+--------------------+------------+--------------------+\n",
            "|version|          timestamp|userId|userName|operation| operationParameters| job|notebook|clusterId|readVersion|isolationLevel|isBlindAppend|    operationMetrics|userMetadata|          engineInfo|\n",
            "+-------+-------------------+------+--------+---------+--------------------+----+--------+---------+-----------+--------------+-------------+--------------------+------------+--------------------+\n",
            "|      1|2022-01-20 04:08:39|  null|    null|    MERGE|{predicate -> (ta...|null|    null|     null|          0|  Serializable|        false|{numTargetRowsCop...|        null|Apache-Spark/3.2....|\n",
            "|      0|2022-01-20 04:03:23|  null|    null|    WRITE|{mode -> ErrorIfE...|null|    null|     null|       null|  Serializable|         true|{numFiles -> 4, n...|        null|Apache-Spark/3.2....|\n",
            "+-------+-------------------+------+--------+---------+--------------------+----+--------+---------+-----------+--------------+-------------+--------------------+------------+--------------------+\n",
            "\n"
          ]
        }
      ]
    },
    {
      "cell_type": "code",
      "source": [
        ""
      ],
      "metadata": {
        "id": "vfWucccmgB1_"
      },
      "execution_count": null,
      "outputs": []
    }
  ]
}