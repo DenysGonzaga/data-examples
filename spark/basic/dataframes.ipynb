{
  "nbformat": 4,
  "nbformat_minor": 0,
  "metadata": {
    "colab": {
      "name": "dataframes",
      "provenance": [],
      "authorship_tag": "ABX9TyOuTqFXsVXxZoTvhNTxhZBR",
      "include_colab_link": true
    },
    "kernelspec": {
      "name": "python3",
      "display_name": "Python 3"
    },
    "language_info": {
      "name": "python"
    }
  },
  "cells": [
    {
      "cell_type": "markdown",
      "metadata": {
        "id": "view-in-github",
        "colab_type": "text"
      },
      "source": [
        "<a href=\"https://colab.research.google.com/github/DenysNunes/data-examples/blob/main/spark/basic/dataframes.ipynb\" target=\"_parent\"><img src=\"https://colab.research.google.com/assets/colab-badge.svg\" alt=\"Open In Colab\"/></a>"
      ]
    },
    {
      "cell_type": "markdown",
      "metadata": {
        "id": "Zug0kpwH_Lcl"
      },
      "source": [
        "# **Init spark**"
      ]
    },
    {
      "cell_type": "code",
      "metadata": {
        "colab": {
          "base_uri": "https://localhost:8080/"
        },
        "id": "zNmUfQhH-1NS",
        "outputId": "67bc1537-f3bf-498c-d474-6babe028d3d8"
      },
      "source": [
        "!pip install -q pyspark==3.1.1\n",
        "\n",
        "from pyspark.sql import SparkSession\n",
        "\n",
        "\n",
        "spark = SparkSession \\\n",
        "    .builder \\\n",
        "    .master('local[*]') \\\n",
        "    .appName(\"New Session Example\") \\\n",
        "    .config(\"spark.serializer\", \"org.apache.spark.serializer.KryoSerializer\") \\\n",
        "    .enableHiveSupport() \\\n",
        "    .getOrCreate()"
      ],
      "execution_count": 1,
      "outputs": [
        {
          "output_type": "stream",
          "name": "stdout",
          "text": [
            "\u001b[K     |████████████████████████████████| 212.3 MB 15 kB/s \n",
            "\u001b[K     |████████████████████████████████| 198 kB 20.3 MB/s \n",
            "\u001b[?25h  Building wheel for pyspark (setup.py) ... \u001b[?25l\u001b[?25hdone\n"
          ]
        }
      ]
    },
    {
      "cell_type": "markdown",
      "metadata": {
        "id": "sQ1lSp09_Q7Y"
      },
      "source": [
        "## **Creating a singe DF**"
      ]
    },
    {
      "cell_type": "code",
      "metadata": {
        "colab": {
          "base_uri": "https://localhost:8080/"
        },
        "id": "A5NVzUhY-wEY",
        "outputId": "317ec8ad-96dd-4818-abcd-7c47343a5d84"
      },
      "source": [
        "from pyspark.sql.types import Row\n",
        "\n",
        "rows = [\n",
        "        Row(id=1, name='Jonh'),\n",
        "        Row(id=2, name='Maria'),\n",
        "        Row(id=3, name='Ben')\n",
        "]\n",
        "\n",
        "df = spark.createDataFrame(rows)\n",
        "\n",
        "df.show()"
      ],
      "execution_count": 2,
      "outputs": [
        {
          "output_type": "stream",
          "name": "stdout",
          "text": [
            "+---+-----+\n",
            "| id| name|\n",
            "+---+-----+\n",
            "|  1| Jonh|\n",
            "|  2|Maria|\n",
            "|  3|  Ben|\n",
            "+---+-----+\n",
            "\n"
          ]
        }
      ]
    },
    {
      "cell_type": "code",
      "metadata": {
        "id": "n0ANodVQAgIz"
      },
      "source": [
        ""
      ],
      "execution_count": null,
      "outputs": []
    }
  ]
}