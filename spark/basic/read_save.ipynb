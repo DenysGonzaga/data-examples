{
  "nbformat": 4,
  "nbformat_minor": 0,
  "metadata": {
    "colab": {
      "name": "read-save",
      "provenance": [],
      "authorship_tag": "ABX9TyMelgPvqYxYeyU8nSoaffhn",
      "include_colab_link": true
    },
    "kernelspec": {
      "name": "python3",
      "display_name": "Python 3"
    },
    "language_info": {
      "name": "python"
    }
  },
  "cells": [
    {
      "cell_type": "markdown",
      "metadata": {
        "id": "view-in-github",
        "colab_type": "text"
      },
      "source": [
        "<a href=\"https://colab.research.google.com/github/DenysNunes/data-examples/blob/main/spark/basic/read_save.ipynb\" target=\"_parent\"><img src=\"https://colab.research.google.com/assets/colab-badge.svg\" alt=\"Open In Colab\"/></a>"
      ]
    },
    {
      "cell_type": "markdown",
      "metadata": {
        "id": "mGNVvW3yHbaD"
      },
      "source": [
        "# **Init spark**"
      ]
    },
    {
      "cell_type": "code",
      "metadata": {
        "colab": {
          "base_uri": "https://localhost:8080/"
        },
        "id": "JmSpDN-CHTMM",
        "outputId": "360aba3c-284b-453c-8044-453ae31d620a"
      },
      "source": [
        "!pip install -q pyspark==3.1.1\n",
        "!sudo apt install tree\n",
        "!rm -rf /tmp/read-save-example/\n",
        "\n",
        "from pyspark.sql import SparkSession\n",
        "\n",
        "spark = SparkSession \\\n",
        "    .builder \\\n",
        "    .master('local[*]') \\\n",
        "    .appName(\"New Session Example\") \\\n",
        "    .config(\"spark.serializer\", \"org.apache.spark.serializer.KryoSerializer\") \\\n",
        "    .config(\"spark.jars.packages\", \"org.apache.hudi:hudi-spark3-bundle_2.12:0.9.0,org.apache.spark:spark-avro_2.12:3.0.1\") \\\n",
        "    .enableHiveSupport() \\\n",
        "    .getOrCreate()"
      ],
      "execution_count": 1,
      "outputs": [
        {
          "output_type": "stream",
          "name": "stdout",
          "text": [
            "Reading package lists... Done\n",
            "Building dependency tree       \n",
            "Reading state information... Done\n",
            "tree is already the newest version (1.7.0-5).\n",
            "0 upgraded, 0 newly installed, 0 to remove and 37 not upgraded.\n"
          ]
        }
      ]
    },
    {
      "cell_type": "code",
      "metadata": {
        "colab": {
          "base_uri": "https://localhost:8080/"
        },
        "id": "uuPNLERcHd8h",
        "outputId": "8530072d-3d0b-4168-c8da-345a11118788"
      },
      "source": [
        "from pyspark.sql.types import Row\n",
        "from datetime import datetime\n",
        "import random\n",
        "\n",
        "def get_random():\n",
        "  return random.randrange(2000, 5000, 100)\n",
        "\n",
        "raw_rows = [\n",
        "        Row(id=1, name='John', salary=get_random(), date=datetime(2020, 1, 1)),\n",
        "        Row(id=2, name='Joana', salary=get_random(), date=datetime(2020, 1, 1)),\n",
        "        Row(id=3, name='Maria', salary=get_random(), date=datetime(2020, 1, 2)),\n",
        "        Row(id=4, name='Sandra', salary=get_random(), date=datetime(2020, 1, 2)),\n",
        "        Row(id=5, name='Ben', salary=get_random(), date=datetime(2020, 1, 3)),\n",
        "        Row(id=6, name='Carl', salary=get_random(), date=datetime(2020, 1, 3)),\n",
        "        Row(id=7, name='Joseph', salary=get_random(), date=datetime(2020, 1, 4)),\n",
        "        Row(id=8, name='Oliver', salary=get_random(), date=datetime(2020, 1, 4))\n",
        "]\n",
        "\n",
        "df = spark.createDataFrame(raw_rows)\n",
        "\n",
        "df.show()"
      ],
      "execution_count": 2,
      "outputs": [
        {
          "output_type": "stream",
          "name": "stdout",
          "text": [
            "+---+------+------+-------------------+\n",
            "| id|  name|salary|               date|\n",
            "+---+------+------+-------------------+\n",
            "|  1|  John|  2800|2020-01-01 00:00:00|\n",
            "|  2| Joana|  4700|2020-01-01 00:00:00|\n",
            "|  3| Maria|  2200|2020-01-02 00:00:00|\n",
            "|  4|Sandra|  2600|2020-01-02 00:00:00|\n",
            "|  5|   Ben|  3400|2020-01-03 00:00:00|\n",
            "|  6|  Carl|  2400|2020-01-03 00:00:00|\n",
            "|  7|Joseph|  3600|2020-01-04 00:00:00|\n",
            "|  8|Oliver|  4200|2020-01-04 00:00:00|\n",
            "+---+------+------+-------------------+\n",
            "\n"
          ]
        }
      ]
    },
    {
      "cell_type": "markdown",
      "metadata": {
        "id": "I5nRtaAbWxrG"
      },
      "source": [
        "# **Saving Mode 1**"
      ]
    },
    {
      "cell_type": "code",
      "metadata": {
        "id": "ojFeV9TUVrPe"
      },
      "source": [
        "df.write.save(path='/tmp/read-save-example/df1/', format='csv', delimiter=',', header=True)"
      ],
      "execution_count": 3,
      "outputs": []
    },
    {
      "cell_type": "code",
      "metadata": {
        "colab": {
          "base_uri": "https://localhost:8080/"
        },
        "id": "pqyGbVKyVke4",
        "outputId": "b5964544-6c2a-4b9b-eefc-fb973c56aa21"
      },
      "source": [
        "!ls /tmp/read-save-example/df1/"
      ],
      "execution_count": 4,
      "outputs": [
        {
          "output_type": "stream",
          "name": "stdout",
          "text": [
            "part-00000-bb21edaa-1b88-418f-8b90-8f0e25258696-c000.csv  _SUCCESS\n",
            "part-00001-bb21edaa-1b88-418f-8b90-8f0e25258696-c000.csv\n"
          ]
        }
      ]
    },
    {
      "cell_type": "code",
      "metadata": {
        "colab": {
          "base_uri": "https://localhost:8080/"
        },
        "id": "gXZaZubbWQBH",
        "outputId": "568eef48-04f5-431f-fb65-a24f2318ca7a"
      },
      "source": [
        "!cat /tmp/read-save-example/df1/*.csv"
      ],
      "execution_count": 5,
      "outputs": [
        {
          "output_type": "stream",
          "name": "stdout",
          "text": [
            "id,name,salary,date\n",
            "1,John,2800,2020-01-01T00:00:00.000Z\n",
            "2,Joana,4700,2020-01-01T00:00:00.000Z\n",
            "3,Maria,2200,2020-01-02T00:00:00.000Z\n",
            "4,Sandra,2600,2020-01-02T00:00:00.000Z\n",
            "id,name,salary,date\n",
            "5,Ben,3400,2020-01-03T00:00:00.000Z\n",
            "6,Carl,2400,2020-01-03T00:00:00.000Z\n",
            "7,Joseph,3600,2020-01-04T00:00:00.000Z\n",
            "8,Oliver,4200,2020-01-04T00:00:00.000Z\n"
          ]
        }
      ]
    },
    {
      "cell_type": "markdown",
      "metadata": {
        "id": "DO7uZzp6XhRm"
      },
      "source": [
        "# **Saving Mode 2**"
      ]
    },
    {
      "cell_type": "code",
      "metadata": {
        "id": "XDaj1toKWXFc"
      },
      "source": [
        "df.write.option('delimiter', ',').option('header', True).csv(path='/tmp/read-save-example/df2/')"
      ],
      "execution_count": 6,
      "outputs": []
    },
    {
      "cell_type": "code",
      "metadata": {
        "colab": {
          "base_uri": "https://localhost:8080/"
        },
        "id": "gK2eH_QwdArZ",
        "outputId": "0d5e7c7c-4ce9-4637-e08a-19e1e849de01"
      },
      "source": [
        "!cat /tmp/read-save-example/df2/*.csv"
      ],
      "execution_count": 7,
      "outputs": [
        {
          "output_type": "stream",
          "name": "stdout",
          "text": [
            "id,name,salary,date\n",
            "1,John,2800,2020-01-01T00:00:00.000Z\n",
            "2,Joana,4700,2020-01-01T00:00:00.000Z\n",
            "3,Maria,2200,2020-01-02T00:00:00.000Z\n",
            "4,Sandra,2600,2020-01-02T00:00:00.000Z\n",
            "id,name,salary,date\n",
            "5,Ben,3400,2020-01-03T00:00:00.000Z\n",
            "6,Carl,2400,2020-01-03T00:00:00.000Z\n",
            "7,Joseph,3600,2020-01-04T00:00:00.000Z\n",
            "8,Oliver,4200,2020-01-04T00:00:00.000Z\n"
          ]
        }
      ]
    },
    {
      "cell_type": "markdown",
      "metadata": {
        "id": "_t2aVSLfYmhm"
      },
      "source": [
        "# **Saving with diferent formats**"
      ]
    },
    {
      "cell_type": "code",
      "metadata": {
        "id": "iyigqkypYiVf"
      },
      "source": [
        "# mode = overwrite -> remove all previously data and save your dataframe\n",
        "# mode = append -> append new data with old\n",
        "\n",
        "df.write.save(path='/tmp/read-save-example/otherformat/parquet/', \n",
        "              format='parquet', \n",
        "              mode='overwrite')\n",
        "\n",
        "df.write.save(path='/tmp/read-save-example/otherformat/orc/', \n",
        "              format='orc', \n",
        "              mode='overwrite')"
      ],
      "execution_count": 8,
      "outputs": []
    },
    {
      "cell_type": "code",
      "metadata": {
        "colab": {
          "base_uri": "https://localhost:8080/"
        },
        "id": "q6rsJuxWZkns",
        "outputId": "b3c27257-f236-43ea-cdc7-65f2a3099acf"
      },
      "source": [
        "!tree /tmp/read-save-example/otherformat/"
      ],
      "execution_count": 9,
      "outputs": [
        {
          "output_type": "stream",
          "name": "stdout",
          "text": [
            "/tmp/read-save-example/otherformat/\n",
            "├── orc\n",
            "│   ├── part-00000-66670dca-5377-46ed-9e13-3ed4c78d8531-c000.snappy.orc\n",
            "│   ├── part-00001-66670dca-5377-46ed-9e13-3ed4c78d8531-c000.snappy.orc\n",
            "│   └── _SUCCESS\n",
            "└── parquet\n",
            "    ├── part-00000-13cefc25-f44e-47da-a613-44bb10ebf3dd-c000.snappy.parquet\n",
            "    ├── part-00001-13cefc25-f44e-47da-a613-44bb10ebf3dd-c000.snappy.parquet\n",
            "    └── _SUCCESS\n",
            "\n",
            "2 directories, 6 files\n"
          ]
        }
      ]
    },
    {
      "cell_type": "markdown",
      "metadata": {
        "id": "lhfYu1YNaDZr"
      },
      "source": [
        "# **Saving with a external format**\n",
        "\n",
        "**Notice that hudi jar already added on session !!!**\n",
        "\n",
        "More information about hudi [here](https://hudi.apache.org/)."
      ]
    },
    {
      "cell_type": "code",
      "metadata": {
        "id": "24kU4N4RY2ym"
      },
      "source": [
        "hudi_options = {\n",
        "    'hoodie.table.name': 'tb_hudi_salaries',\n",
        "    'hoodie.datasource.write.recordkey.field': 'id',\n",
        "    'hoodie.datasource.write.partitionpath.field': 'date',\n",
        "    'hoodie.datasource.write.table.name': 'tb_hudi_salaries',\n",
        "    'hoodie.datasource.write.operation': 'insert',\n",
        "    'hoodie.datasource.write.precombine.field': 'ts',\n",
        "    'hoodie.insert.shuffle.parallelism': 2\n",
        "}\n",
        "\n",
        "df.write.format(\"hudi\").  \\\n",
        "    options(**hudi_options). \\\n",
        "    mode(\"overwrite\"). \\\n",
        "    save('/tmp/read-save-example/otherformat/hudi/')\n"
      ],
      "execution_count": 10,
      "outputs": []
    },
    {
      "cell_type": "code",
      "metadata": {
        "colab": {
          "base_uri": "https://localhost:8080/"
        },
        "id": "npTrHGM9aOda",
        "outputId": "ccd9c90a-acfa-45e3-8102-5afcddaa8f00"
      },
      "source": [
        "!tree /tmp/read-save-example/otherformat/hudi/"
      ],
      "execution_count": 11,
      "outputs": [
        {
          "output_type": "stream",
          "name": "stdout",
          "text": [
            "/tmp/read-save-example/otherformat/hudi/\n",
            "├── 1577836800000000\n",
            "│   └── a02820a1-7c4d-4fbd-9c86-88c18fd590a7-0_3-12-23_20211112232458.parquet\n",
            "├── 1577923200000000\n",
            "│   └── da0c34e1-bdde-48a3-a7ab-b8f8c0341740-0_1-12-21_20211112232458.parquet\n",
            "├── 1578009600000000\n",
            "│   └── 73c1b5ec-954b-48da-a970-8424c20d4257-0_2-12-22_20211112232458.parquet\n",
            "└── 1578096000000000\n",
            "    └── b56277cd-0d8a-41b7-8bf7-3cade009ad34-0_0-10-20_20211112232458.parquet\n",
            "\n",
            "4 directories, 4 files\n"
          ]
        }
      ]
    },
    {
      "cell_type": "markdown",
      "metadata": {
        "id": "PkuIAUZcetsi"
      },
      "source": [
        "# **Reading mode 1 - All params like arguments**"
      ]
    },
    {
      "cell_type": "code",
      "metadata": {
        "colab": {
          "base_uri": "https://localhost:8080/"
        },
        "id": "AlacMdECer_A",
        "outputId": "760a796d-4532-4c43-f4de-21845fd4eddd"
      },
      "source": [
        "df_load = spark.read.load(format='parquet', path='/tmp/read-save-example/otherformat/parquet/')\n",
        "df_load.show()"
      ],
      "execution_count": 12,
      "outputs": [
        {
          "output_type": "stream",
          "name": "stdout",
          "text": [
            "+---+------+------+-------------------+\n",
            "| id|  name|salary|               date|\n",
            "+---+------+------+-------------------+\n",
            "|  1|  John|  2800|2020-01-01 00:00:00|\n",
            "|  2| Joana|  4700|2020-01-01 00:00:00|\n",
            "|  3| Maria|  2200|2020-01-02 00:00:00|\n",
            "|  4|Sandra|  2600|2020-01-02 00:00:00|\n",
            "|  5|   Ben|  3400|2020-01-03 00:00:00|\n",
            "|  6|  Carl|  2400|2020-01-03 00:00:00|\n",
            "|  7|Joseph|  3600|2020-01-04 00:00:00|\n",
            "|  8|Oliver|  4200|2020-01-04 00:00:00|\n",
            "+---+------+------+-------------------+\n",
            "\n"
          ]
        }
      ]
    },
    {
      "cell_type": "markdown",
      "metadata": {
        "id": "TgmqPSPLfG-O"
      },
      "source": [
        "# **Reading mode 2 - Implicit format method**"
      ]
    },
    {
      "cell_type": "code",
      "metadata": {
        "colab": {
          "base_uri": "https://localhost:8080/"
        },
        "id": "nOJ7_gCLctSI",
        "outputId": "2d888e2d-9d5f-46e7-8156-e6b0876dcb86"
      },
      "source": [
        "df_load2 = spark.read.parquet('/tmp/read-save-example/otherformat/parquet/')\n",
        "df_load2.show()"
      ],
      "execution_count": 13,
      "outputs": [
        {
          "output_type": "stream",
          "name": "stdout",
          "text": [
            "+---+------+------+-------------------+\n",
            "| id|  name|salary|               date|\n",
            "+---+------+------+-------------------+\n",
            "|  1|  John|  2800|2020-01-01 00:00:00|\n",
            "|  2| Joana|  4700|2020-01-01 00:00:00|\n",
            "|  3| Maria|  2200|2020-01-02 00:00:00|\n",
            "|  4|Sandra|  2600|2020-01-02 00:00:00|\n",
            "|  5|   Ben|  3400|2020-01-03 00:00:00|\n",
            "|  6|  Carl|  2400|2020-01-03 00:00:00|\n",
            "|  7|Joseph|  3600|2020-01-04 00:00:00|\n",
            "|  8|Oliver|  4200|2020-01-04 00:00:00|\n",
            "+---+------+------+-------------------+\n",
            "\n"
          ]
        }
      ]
    },
    {
      "cell_type": "markdown",
      "metadata": {
        "id": "CSUMrYMefVR6"
      },
      "source": [
        "# **Reading mode 3 - Using wildcards**"
      ]
    },
    {
      "cell_type": "code",
      "metadata": {
        "colab": {
          "base_uri": "https://localhost:8080/"
        },
        "id": "bWHYF4-EfVDr",
        "outputId": "b481bf2f-b00c-4d45-9c01-530fb0e4cd90"
      },
      "source": [
        "df_load3 = spark.read.parquet('/tmp/read-save-example/otherformat/parquet/part*.parquet')\n",
        "df_load3.show()"
      ],
      "execution_count": 18,
      "outputs": [
        {
          "output_type": "stream",
          "name": "stdout",
          "text": [
            "+---+------+------+-------------------+\n",
            "| id|  name|salary|               date|\n",
            "+---+------+------+-------------------+\n",
            "|  1|  John|  2800|2020-01-01 00:00:00|\n",
            "|  2| Joana|  4700|2020-01-01 00:00:00|\n",
            "|  3| Maria|  2200|2020-01-02 00:00:00|\n",
            "|  4|Sandra|  2600|2020-01-02 00:00:00|\n",
            "|  5|   Ben|  3400|2020-01-03 00:00:00|\n",
            "|  6|  Carl|  2400|2020-01-03 00:00:00|\n",
            "|  7|Joseph|  3600|2020-01-04 00:00:00|\n",
            "|  8|Oliver|  4200|2020-01-04 00:00:00|\n",
            "+---+------+------+-------------------+\n",
            "\n"
          ]
        }
      ]
    },
    {
      "cell_type": "markdown",
      "metadata": {
        "id": "935leJVNfJDK"
      },
      "source": [
        "# **Reading mode 4 - Spark SQL direct path**"
      ]
    },
    {
      "cell_type": "code",
      "metadata": {
        "colab": {
          "base_uri": "https://localhost:8080/"
        },
        "id": "zp2eTyOLfD5I",
        "outputId": "6eea0517-2e1d-49bb-9748-76ec40efc208"
      },
      "source": [
        "df_load4 = spark.sql('select * from parquet.`/tmp/read-save-example/otherformat/parquet/`')\n",
        "df_load4.show()"
      ],
      "execution_count": 17,
      "outputs": [
        {
          "output_type": "stream",
          "name": "stdout",
          "text": [
            "+---+------+------+-------------------+\n",
            "| id|  name|salary|               date|\n",
            "+---+------+------+-------------------+\n",
            "|  1|  John|  2800|2020-01-01 00:00:00|\n",
            "|  2| Joana|  4700|2020-01-01 00:00:00|\n",
            "|  3| Maria|  2200|2020-01-02 00:00:00|\n",
            "|  4|Sandra|  2600|2020-01-02 00:00:00|\n",
            "|  5|   Ben|  3400|2020-01-03 00:00:00|\n",
            "|  6|  Carl|  2400|2020-01-03 00:00:00|\n",
            "|  7|Joseph|  3600|2020-01-04 00:00:00|\n",
            "|  8|Oliver|  4200|2020-01-04 00:00:00|\n",
            "+---+------+------+-------------------+\n",
            "\n"
          ]
        }
      ]
    },
    {
      "cell_type": "code",
      "metadata": {
        "id": "sz13mmGOfQmJ"
      },
      "source": [
        ""
      ],
      "execution_count": null,
      "outputs": []
    }
  ]
}